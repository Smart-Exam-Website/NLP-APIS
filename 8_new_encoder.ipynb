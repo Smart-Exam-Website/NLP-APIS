{
 "cells": [
  {
   "cell_type": "code",
   "execution_count": 1,
   "metadata": {},
   "outputs": [],
   "source": [
    "import time\n",
    "import os\n",
    "import itertools\n",
    "import numpy as np\n",
    "import pandas as pd\n",
    "import matplotlib.pyplot as plt\n",
    "import plotly.express as px\n",
    "from sentence_transformers.util import cos_sim\n",
    "import sys\n",
    "import key_words\n",
    "from IPython.display import clear_output\n",
    "\n",
    "import pickle\n",
    "def save_obj(obj:object,name:str):\n",
    "    ext = '.pickle'\n",
    "    with open(name + ext, 'wb') as handle:\n",
    "        pickle.dump(obj, handle, protocol=pickle.HIGHEST_PROTOCOL)\n",
    "\n",
    "def load_obj(name:str)->object:\n",
    "    ext = '.pickle'\n",
    "    with open(name + ext, 'rb') as handle:\n",
    "        return pickle.load(handle)"
   ]
  },
  {
   "cell_type": "code",
   "execution_count": 2,
   "metadata": {},
   "outputs": [],
   "source": [
    "train_path = \"data/train_phase1.tsv\"\n",
    "df = pd.read_csv(train_path, sep=\"\\t\")"
   ]
  },
  {
   "cell_type": "code",
   "execution_count": 9,
   "metadata": {},
   "outputs": [],
   "source": [
    "def maximal_marginal_relevance(doc_embedding: np.ndarray,\n",
    "        word_embeddings: np.ndarray,\n",
    "        words,\n",
    "        top_n = 5,\n",
    "        diversity = 0.8):\n",
    "    \"\"\"\n",
    "    Maximal Marginal Relevance algorithm for keyword extraction\n",
    "    * from KeyBERT repository on github\n",
    "\n",
    "    Args:\n",
    "        doc_embedding (numpy.ndarray): embedding of shape (1, 768)\n",
    "        word_embeddings (numpy.ndarray): embedding of shape (N, 768)\n",
    "        words (List[str]): list of words\n",
    "        top_n (Optional[int]): number of top words to extract\n",
    "        diversity (Optional[float]): diversity of top words to extract\n",
    "\n",
    "    Returns:\n",
    "        List[Tuple[str, float]]: list of top_n words with their scores\n",
    "    \"\"\"\n",
    "    # make sure 2d array\n",
    "    if doc_embedding.ndim == 1:\n",
    "        doc_embedding = doc_embedding.reshape(1, -1)\n",
    "\n",
    "    # Extract similarity within words, and between words and the document\n",
    "\n",
    "    word_doc_similarity = np.array(cos_sim(word_embeddings, doc_embedding)).clip(-1, 1).round(6)\n",
    "    word_similarity = np.array(cos_sim(word_embeddings, word_embeddings)).clip(-1, 1).round(6)\n",
    "\n",
    "    # Initialize candidates and already choose best keyword/keyphras\n",
    "    keywords_idx = [np.argmax(word_doc_similarity)]\n",
    "    candidates_idx = [i for i in range(len(words)) if i != keywords_idx[0]]\n",
    "\n",
    "    for _ in range(top_n - 1):\n",
    "        # Extract similarities within candidates and\n",
    "        # between candidates and selected keywords/phrases\n",
    "        candidate_similarities = word_doc_similarity[candidates_idx, :]\n",
    "        target_similarities = np.max(word_similarity[candidates_idx][:, keywords_idx], axis=1)\n",
    "\n",
    "        # Calculate maximal_marginal_relevance\n",
    "        mmr = (1-diversity) * candidate_similarities -\\\n",
    "            diversity * target_similarities.reshape(-1, 1)\n",
    "        # if return mmr is empty\n",
    "        if mmr.size == 0:\n",
    "            continue\n",
    "        mmr = candidates_idx[np.argmax(mmr)]\n",
    "\n",
    "        # Update keywords & candidates\n",
    "        keywords_idx.append(mmr)\n",
    "        candidates_idx.remove(mmr)\n",
    "\n",
    "    return [words[idx] for idx in keywords_idx]\n",
    "\n",
    "def emb_keywords(keywords):\n",
    "    # x = np.array(list(map(lambda k: np.array(list(map(lambda x: BERT.model.encode(str(x)), k))),keywords)))\n",
    "    x = np.array(list(map(lambda k: np.array(list(map(lambda x: get_words_emb(str(x)), k))),keywords)))\n",
    "    if x.ndim == 3:\n",
    "        x = x.reshape(max(x.shape[1],x.shape[0]),x.shape[2])\n",
    "    return x\n",
    "\n",
    "def get_candidates(n_grams, doc):\n",
    "    x = list(map(lambda gram :\n",
    "        key_words.candidates_tokens(str(doc), n_gram_range=gram)\n",
    "        , n_grams))\n",
    "    return x\n",
    "\n",
    "def match_keywords(\n",
    "    keywords_emb:list[np.ndarray],\n",
    "    candidates_emb : list[np.ndarray],\n",
    "    thershold: float)\\\n",
    "        -> float:\n",
    "    \"\"\"\n",
    "    match keywords with candidates in a document\n",
    "\n",
    "    Args:\n",
    "        keywords_emb (List[np.ndarray]): list of keywords embeddings\n",
    "        candidates_emb (List[np.ndarray]): list of document's candidates embeddings\n",
    "        thershold (float): threshold\n",
    "\n",
    "    Returns:\n",
    "        float: score\n",
    "    \n",
    "    example:\n",
    "        >>> match_keywords(keywords_emb, candidates_emb, thershold=0.5)\n",
    "        >>> 0.8\n",
    "    \"\"\"\n",
    "    similarities = list(map(lambda cand:\n",
    "                    cos_sim(np.array(keywords_emb), cand.reshape(cand.shape[0],cand.shape[1])).__array__().max(axis=1).round(6).clip(-1, 1),\n",
    "                    candidates_emb))\n",
    "    return similarities\n",
    "\n",
    "def para_keywords_pipeline_output_dict(keywords,docs,n_gram_list,batch = 50):\n",
    "\n",
    "    def check_n_gram_dict(n_grams, doc, ind):\n",
    "        def fn(n_gram):\n",
    "            x = n_gram_dict[ind].get(n_gram)\n",
    "            if x is None:\n",
    "                x =  get_candidates([n_gram], doc)\n",
    "                n_gram_dict[ind][n_gram] = x\n",
    "                return x\n",
    "            else:\n",
    "                return x\n",
    "        return list(map(fn, n_grams))\n",
    "\n",
    "    n_docs = len(docs)\n",
    "    if n_docs < batch:\n",
    "        batch = n_docs\n",
    "    \n",
    "    n_gram_dict = {ind: {n_gram: None for n_gram in set([item for sublist in n_gram_list for item in sublist])} for ind ,doc in enumerate(docs)}\n",
    "\n",
    "    n_grams_list = []\n",
    "    students_candidates_list = []\n",
    "    keywords_embeddings_list = []\n",
    "    students_candidates_emb_list = []\n",
    "    times = []\n",
    "\n",
    "    # all model answers\n",
    "    for ind, ans in enumerate(keywords):\n",
    "        print(\"model answer\",ind)\n",
    "        t1 = time.perf_counter()\n",
    "        students_n_grams = key_words.get_n_grams(ans)\n",
    "        keywords_embeddings =  list(map(model.encode, ans))\n",
    "\n",
    "        students_candidates_list_s = []\n",
    "        students_candidates_emb_list_s = []\n",
    "        # do in batches\n",
    "        for i in range(0,n_docs,batch):\n",
    "            students_candidates = list(map(lambda doc:\n",
    "                            check_n_gram_dict(students_n_grams, doc[1], i+doc[0]),\n",
    "                            enumerate(docs[i:i+batch])))\n",
    "            students_candidates_emb =  list(map( lambda st: list(map( emb_keywords ,st)), students_candidates))\n",
    "            # students_candidates_emb =  list(map(emb_d, students_candidates))\n",
    "            students_candidates_list_s.extend(students_candidates)\n",
    "            students_candidates_emb_list_s.extend(students_candidates_emb)\n",
    "\n",
    "        if n_docs % batch != 0 and n_docs > batch:\n",
    "            students_candidates = list(map(lambda doc:\n",
    "                            check_n_gram_dict(students_n_grams, doc[1], i+doc[0]),\n",
    "                            enumerate(docs[i+batch:])))\n",
    "            students_candidates_emb =  list(map( lambda st: list(map( emb_keywords ,st)), students_candidates))\n",
    "\n",
    "            students_candidates_list_s.extend(students_candidates)\n",
    "            students_candidates_emb_list_s.extend(students_candidates_emb)\n",
    "\n",
    "        n_grams_list.append(students_n_grams)\n",
    "        keywords_embeddings_list.append(keywords_embeddings)\n",
    "        students_candidates_list.append(students_candidates_list_s)\n",
    "        students_candidates_emb_list.append(students_candidates_emb_list_s)\n",
    "        times.append(time.perf_counter() - t1)\n",
    "    return {\n",
    "        \"n_gram_dict\": n_gram_dict,\n",
    "        \"n_grams_list\": n_grams_list,\n",
    "        \"students_candidates_list\": students_candidates_list,\n",
    "        \"keywords_embeddings_list\": keywords_embeddings_list,\n",
    "        \"students_candidates_emb_list\": students_candidates_emb_list,\n",
    "        \"times\": times\n",
    "    }\n",
    "\n",
    "def get_words_emb(word):\n",
    "    if word in words_emb_dict:\n",
    "        return words_emb_dict[word]\n",
    "    else:\n",
    "        words_emb_dict[word] = model.encode(word)\n",
    "        return words_emb_dict[word]\n",
    "\n",
    "def grading(keywords_embeddings_list,students_candidates_emb_list,thershold=0.5):\n",
    "    \"\"\"\n",
    "    Args:\n",
    "        keywords_embeddings_list: list of list of list of embeddings\n",
    "        students_candidates_emb_list: list of list of list of embeddings\n",
    "        thershold: thershold for the similarity\n",
    "    Returns:\n",
    "        a list of list of list of grades\n",
    "    \"\"\"\n",
    "    grades = []\n",
    "    for i in range(len(keywords_embeddings_list)):\n",
    "        # for j in range(len(keywords_embeddings_list[i])):\n",
    "        #     grades.append(key_words.match_keywords(keywords_embeddings_list[i][j],\n",
    "        #                                     students_candidates_emb_list[i][j],\n",
    "        #                                     thershold))\n",
    "        \n",
    "        # map(lambda j: grades.append(key_words.match_keywords(keywords_embeddings_list[i][j],)))\n",
    "        grades.append(np.array(list(map(lambda st_cand:\n",
    "                match_keywords(keywords_embeddings_list[i], st_cand,\n",
    "                thershold=thershold),\n",
    "                students_candidates_emb_list[i]\n",
    "                ))))\n",
    "    grades = np.array(list(map(lambda sim: (sim.__array__().max(axis=1) >thershold).sum(axis=1)/float(sim.shape[-1]) , grades)))\n",
    "    return grades"
   ]
  },
  {
   "cell_type": "code",
   "execution_count": 10,
   "metadata": {},
   "outputs": [],
   "source": [
    "words_emb_dict = {}"
   ]
  },
  {
   "cell_type": "code",
   "execution_count": 22,
   "metadata": {},
   "outputs": [],
   "source": [
    "from sentence_transformers import SentenceTransformer\n",
    "model = SentenceTransformer(\"sentence-transformers/paraphrase-multilingual-MiniLM-L12-v2\")"
   ]
  },
  {
   "cell_type": "code",
   "execution_count": 4,
   "metadata": {},
   "outputs": [],
   "source": [
    "ess_1_model_answers = load_obj('data/essaySet_1_model_answers')"
   ]
  },
  {
   "cell_type": "code",
   "execution_count": 11,
   "metadata": {},
   "outputs": [],
   "source": [
    "top_n_l = [7]*10\n",
    "diversity_l = [0.6,0.6, 0.7,0.7,0.7,0.7,0.6,0.7,0.7,0.7]\n",
    "ngram_range_l = [(2,2),(2,2),(2,3),(2,3),(2,3),(2,3),(2,2),(2,3),(2,3),(2,3)]"
   ]
  },
  {
   "cell_type": "code",
   "execution_count": 15,
   "metadata": {},
   "outputs": [
    {
     "data": {
      "text/plain": [
       "(22, 384)"
      ]
     },
     "execution_count": 15,
     "metadata": {},
     "output_type": "execute_result"
    }
   ],
   "source": [
    "model.encode(ess_1_model_answers).shape"
   ]
  },
  {
   "cell_type": "code",
   "execution_count": 16,
   "metadata": {},
   "outputs": [
    {
     "name": "stdout",
     "output_type": "stream",
     "text": [
      "essayset 1\n",
      "model answer 0\n",
      "model answer 1\n",
      "model answer 2\n",
      "model answer 3\n",
      "model answer 4\n",
      "model answer 5\n",
      "model answer 6\n",
      "model answer 7\n",
      "model answer 8\n",
      "model answer 9\n",
      "model answer 10\n",
      "model answer 11\n",
      "model answer 12\n",
      "model answer 13\n",
      "model answer 14\n",
      "model answer 15\n",
      "model answer 16\n",
      "model answer 17\n",
      "model answer 18\n",
      "model answer 19\n",
      "model answer 20\n",
      "model answer 21\n"
     ]
    }
   ],
   "source": [
    "for essay in range(0,1):\n",
    "    # get top_n, diversity, ngram_range\n",
    "    print(\"essayset\",essay+1)\n",
    "    \n",
    "    model_candidates = list(map(lambda ans: key_words.candidates_tokens(ans,n_gram_range=ngram_range_l[essay+1]),ess_1_model_answers))\n",
    "    model_candidate_emb = list(map(lambda cand:model.encode(cand),model_candidates))\n",
    "    keywords = list(map(lambda x: maximal_marginal_relevance(\n",
    "        x[0].reshape(1, -1),x[1],x[2],top_n=top_n_l[essay+1],diversity=diversity_l[essay+1]),\n",
    "        zip(model.encode(ess_1_model_answers),\n",
    "        model_candidate_emb,model_candidates)))\n",
    "    students_n_grams = list(map(lambda keyword: sorted(key_words.get_n_grams(keyword)),keywords))\n",
    "\n",
    "    docs = df.query(f'EssaySet == {essay+1}')[\"EssayText\"].values.tolist()\n",
    "\n",
    "    dd = para_keywords_pipeline_output_dict(keywords,docs,students_n_grams,batch=10)\n",
    "    save_obj(dd,f'data/results/new_keywords_res_essay_{essay+1}')\n",
    "\n",
    "    del dd"
   ]
  },
  {
   "cell_type": "markdown",
   "metadata": {},
   "source": [
    ">roberta model toke 800s == 12 min\n",
    "\n",
    ">this toke only 378s == 6.3 min"
   ]
  },
  {
   "cell_type": "code",
   "execution_count": 18,
   "metadata": {},
   "outputs": [],
   "source": [
    "dd = load_obj(f'data/results/new_keywords_res_essay_{1}')"
   ]
  },
  {
   "cell_type": "markdown",
   "metadata": {},
   "source": [
    "## tune threshold"
   ]
  },
  {
   "cell_type": "code",
   "execution_count": 20,
   "metadata": {},
   "outputs": [],
   "source": [
    "from IPython.display import clear_output\n",
    "\n",
    "df_dict ={}\n",
    "\n",
    "for i in range(1,11):\n",
    "    df_dict['ess_'+str(i)+'_keywords'] = pd.DataFrame(df[df['EssaySet'] == i]['score_gn_1'])\n",
    "    # remove index\n",
    "    df_dict['ess_'+str(i)+'_keywords'].reset_index(drop=True, inplace=True)"
   ]
  },
  {
   "cell_type": "code",
   "execution_count": 21,
   "metadata": {},
   "outputs": [
    {
     "name": "stdout",
     "output_type": "stream",
     "text": [
      "Done!\n"
     ]
    }
   ],
   "source": [
    "# for essay in range(1,11)[:2]:\n",
    "for essay in range(1,2):\n",
    "    print(\"Loading essay\",essay,\"...\")\n",
    "    # grid search for the best threshold\n",
    "    thresholds = np.arange(0.2, 0.95, 0.03).round(3)\n",
    "    for threshold in thresholds:\n",
    "        print(f\"Grading essay {essay} threshold {threshold} ...\")\n",
    "        x = grading(dd['keywords_embeddings_list'],dd['students_candidates_emb_list'],threshold)\n",
    "        df_dict[f'ess_{essay}_keywords'][f'keys_score_{threshold}'] = np.median(x ,axis=0)\n",
    "        clear_output()\n",
    "print(\"Done!\")"
   ]
  },
  {
   "cell_type": "code",
   "execution_count": 23,
   "metadata": {},
   "outputs": [],
   "source": [
    "# mean square error between the grades and the score_gn_1\n",
    "mse_mx = []\n",
    "mse_md = []\n",
    "\n",
    "thresholds_best = []\n",
    "for essay in range(1,2):\n",
    "    thresholds = np.arange(0.2, 0.95, 0.03).round(3)\n",
    "    for threshold in thresholds:\n",
    "        mse_mx.append(np.max((df_dict[f'ess_{essay}_keywords'][f'keys_score_{threshold}'] - df_dict[f'ess_{essay}_keywords']['score_gn_1'])**2))\n",
    "        mse_md.append(np.median((df_dict[f'ess_{essay}_keywords'][f'keys_score_{threshold}'] - df_dict[f'ess_{essay}_keywords']['score_gn_1'])**2))"
   ]
  },
  {
   "cell_type": "code",
   "execution_count": 24,
   "metadata": {},
   "outputs": [
    {
     "data": {
      "text/plain": [
       "(array([0.56, 0.5 , 0.53]), array([0.47, 0.5 , 0.53]))"
      ]
     },
     "execution_count": 24,
     "metadata": {},
     "output_type": "execute_result"
    }
   ],
   "source": [
    "thresholds[np.argsort(mse_mx)[:3]], thresholds[np.argsort(mse_md)[:3]]"
   ]
  },
  {
   "cell_type": "code",
   "execution_count": 10,
   "metadata": {},
   "outputs": [],
   "source": [
    "docs = df.query(f'EssaySet == {1}')[\"EssayText\"].values.tolist()"
   ]
  },
  {
   "cell_type": "code",
   "execution_count": 11,
   "metadata": {},
   "outputs": [],
   "source": [
    "keywords_threshold = 0.56\n",
    "siamese_scores = cos_sim(model.encode(ess_1_model_answers),model.encode(docs))"
   ]
  },
  {
   "cell_type": "code",
   "execution_count": 5,
   "metadata": {},
   "outputs": [],
   "source": [
    "ner_scores = load_obj(\"data/results/ner_res\")\n",
    "special_keywords_res = load_obj(\"data/results/special_keywords_res\")"
   ]
  },
  {
   "cell_type": "code",
   "execution_count": 29,
   "metadata": {},
   "outputs": [],
   "source": [
    "kwrds_res = grading(dd['keywords_embeddings_list'],dd['students_candidates_emb_list'],keywords_threshold)"
   ]
  },
  {
   "cell_type": "code",
   "execution_count": 34,
   "metadata": {},
   "outputs": [],
   "source": [
    "kwrds_res = df_dict[f'ess_{1}_keywords'][f'keys_score_{0.56}']"
   ]
  },
  {
   "cell_type": "code",
   "execution_count": 35,
   "metadata": {},
   "outputs": [],
   "source": [
    "n_df = pd.concat([pd.DataFrame(kwrds_res), pd.DataFrame(siamese_scores[0]), pd.DataFrame(ner_scores[0]),\n",
    "    pd.DataFrame(special_keywords_res['ess_1_model_answers']),\n",
    "    pd.DataFrame(df[df['EssaySet'] == 1]['score_gn_1'])],axis=1)\n",
    "n_df.columns = ['keywords_score', 'siamese_score', 'ner_score', 'special_keywords_score','label']"
   ]
  },
  {
   "cell_type": "markdown",
   "metadata": {},
   "source": [
    "# train"
   ]
  },
  {
   "cell_type": "code",
   "execution_count": 12,
   "metadata": {},
   "outputs": [],
   "source": [
    "n_df = pd.concat([ pd.DataFrame(siamese_scores[0]), pd.DataFrame(ner_scores[0]),\n",
    "    pd.DataFrame(df[df['EssaySet'] == 1]['score_gn_1'])],axis=1)\n",
    "n_df.columns = [ 'siamese_score', 'ner_score', 'label']"
   ]
  },
  {
   "cell_type": "code",
   "execution_count": 17,
   "metadata": {},
   "outputs": [],
   "source": [
    "# train a regression model\n",
    "from sklearn.linear_model import LinearRegression\n",
    "from sklearn.tree import DecisionTreeRegressor\n",
    "from sklearn.ensemble import RandomForestRegressor\n",
    "from sklearn.ensemble import GradientBoostingRegressor\n",
    "from sklearn.gaussian_process import GaussianProcessRegressor\n",
    "from sklearn.svm import SVR\n",
    "from sklearn.neural_network import MLPRegressor\n",
    "from xgboost import XGBRegressor\n",
    "from lightgbm import LGBMRegressor\n",
    "from catboost import CatBoostRegressor\n",
    "\n",
    "\n",
    "from sklearn.model_selection import train_test_split\n",
    "from sklearn.metrics import mean_squared_error\n",
    "from sklearn.metrics import r2_score\n",
    "\n",
    "# train the model\n",
    "# X = n_df[['keywords_score', 'siamese_score', 'ner_score', 'special_keywords_score']]\n",
    "X = n_df[[ 'siamese_score',]]\n",
    "y = n_df['label']\n",
    "X_train, X_test, y_train, y_test = train_test_split(X, y, test_size=0.2, random_state=42)"
   ]
  },
  {
   "cell_type": "code",
   "execution_count": 18,
   "metadata": {},
   "outputs": [],
   "source": [
    "models_dict = {\n",
    "    'l_rg': LinearRegression(),\n",
    "    'l_svr': SVR(),\n",
    "    # 'l_knr': KNeighborsRegressor(),\n",
    "    'l_dt': DecisionTreeRegressor(),\n",
    "    'l_rf': RandomForestRegressor(),\n",
    "    'l_gb': GradientBoostingRegressor(),\n",
    "    'l_xgb': XGBRegressor(),\n",
    "    'l_lgb': LGBMRegressor(),\n",
    "    'l_cat': CatBoostRegressor(),\n",
    "    'l_mlp': MLPRegressor(),\n",
    "    # 'l_ada': AdaBoostRegressor(),\n",
    "    'l_gpr': GaussianProcessRegressor(),\n",
    "}"
   ]
  },
  {
   "cell_type": "code",
   "execution_count": 19,
   "metadata": {},
   "outputs": [],
   "source": [
    "for model_name, mod in models_dict.items():\n",
    "    mod.fit(X_train, y_train)\n",
    "clear_output()"
   ]
  },
  {
   "cell_type": "markdown",
   "metadata": {},
   "source": [
    "# only similarities"
   ]
  },
  {
   "cell_type": "code",
   "execution_count": 20,
   "metadata": {},
   "outputs": [
    {
     "name": "stdout",
     "output_type": "stream",
     "text": [
      "l_rg MSE: 0.08016690821143074\n",
      "l_rg R2: 0.32072592695361946\n",
      "l_svr MSE: 0.07880238955245789\n",
      "l_svr R2: 0.33228783158369113\n",
      "l_dt MSE: 0.1581334621635266\n",
      "l_dt R2: -0.3399039993590314\n",
      "l_rf MSE: 0.11790648848502693\n",
      "l_rf R2: 0.0009491140585047297\n",
      "l_gb MSE: 0.07998402738679085\n",
      "l_gb R2: 0.3222755214859119\n",
      "l_xgb MSE: 0.10043182031052571\n",
      "l_xgb R2: 0.14901630650556097\n",
      "l_lgb MSE: 0.08407283654604997\n",
      "l_lgb R2: 0.2876300285576556\n",
      "l_cat MSE: 0.08542547855118882\n",
      "l_cat R2: 0.2761687577577262\n",
      "l_mlp MSE: 0.07770963235887499\n",
      "l_mlp R2: 0.3415470339939689\n",
      "l_gpr MSE: 0.07657667269410921\n",
      "l_gpr R2: 0.35114688190194865\n"
     ]
    }
   ],
   "source": [
    "for model_name, mod in models_dict.items():\n",
    "    print(f\"{model_name} MSE:\", mean_squared_error(y_test, mod.predict(X_test)))\n",
    "    print(f\"{model_name} R2:\", r2_score(y_test, mod.predict(X_test)))"
   ]
  },
  {
   "cell_type": "markdown",
   "metadata": {},
   "source": [
    "# similarities and ner"
   ]
  },
  {
   "cell_type": "code",
   "execution_count": 16,
   "metadata": {},
   "outputs": [
    {
     "name": "stdout",
     "output_type": "stream",
     "text": [
      "l_rg MSE: 0.07906753196393922\n",
      "l_rg R2: 0.33004121424740496\n",
      "l_svr MSE: 0.07783589811632013\n",
      "l_svr R2: 0.3404771529512842\n",
      "l_dt MSE: 0.1488011623301346\n",
      "l_dt R2: -0.2608291109774141\n",
      "l_rf MSE: 0.10701452257120235\n",
      "l_rf R2: 0.0932394395161481\n",
      "l_gb MSE: 0.07989692835774731\n",
      "l_gb R2: 0.32301353313606496\n",
      "l_xgb MSE: 0.09899255145954848\n",
      "l_xgb R2: 0.16121158803037205\n",
      "l_lgb MSE: 0.0846255036987984\n",
      "l_lgb R2: 0.28294714286002753\n",
      "l_cat MSE: 0.0835709550707935\n",
      "l_cat R2: 0.2918825946287441\n",
      "l_mlp MSE: 0.07818709635111137\n",
      "l_mlp R2: 0.33750136330545966\n",
      "l_gpr MSE: 0.07646990611101517\n",
      "l_gpr R2: 0.35205154160982033\n"
     ]
    }
   ],
   "source": [
    "for model_name, mod in models_dict.items():\n",
    "    print(f\"{model_name} MSE:\", mean_squared_error(y_test, mod.predict(X_test)))\n",
    "    print(f\"{model_name} R2:\", r2_score(y_test, mod.predict(X_test)))"
   ]
  },
  {
   "cell_type": "markdown",
   "metadata": {},
   "source": [
    "# all"
   ]
  },
  {
   "cell_type": "code",
   "execution_count": 45,
   "metadata": {},
   "outputs": [
    {
     "name": "stdout",
     "output_type": "stream",
     "text": [
      "l_rg MSE: 0.0651946784016764\n",
      "l_rg R2: 0.44758933920640886\n",
      "l_svr MSE: 0.06445518189885016\n",
      "l_svr R2: 0.4538552762705341\n",
      "l_dt MSE: 0.13787641007222645\n",
      "l_dt R2: -0.16826097870418044\n",
      "l_rf MSE: 0.08172926665999261\n",
      "l_rf R2: 0.30748767677545275\n",
      "l_gb MSE: 0.06754066502702874\n",
      "l_gb R2: 0.42771121335786577\n",
      "l_xgb MSE: 0.08204282298646963\n",
      "l_xgb R2: 0.30483083634381525\n",
      "l_lgb MSE: 0.07622755593069137\n",
      "l_lgb R2: 0.35410503472518284\n",
      "l_cat MSE: 0.0725144281058606\n",
      "l_cat R2: 0.38556728663918405\n",
      "l_mlp MSE: 0.06503687451894977\n",
      "l_mlp R2: 0.4489264505975523\n",
      "l_gpr MSE: 0.1184098395065301\n",
      "l_gpr R2: -0.0033159038419829923\n"
     ]
    }
   ],
   "source": [
    "for model_name, mod in models_dict.items():\n",
    "    print(f\"{model_name} MSE:\", mean_squared_error(y_test, mod.predict(X_test)))\n",
    "    print(f\"{model_name} R2:\", r2_score(y_test, mod.predict(X_test)))"
   ]
  },
  {
   "cell_type": "markdown",
   "metadata": {},
   "source": [
    "# essay 3"
   ]
  },
  {
   "cell_type": "code",
   "execution_count": 33,
   "metadata": {},
   "outputs": [],
   "source": [
    "ess_3_model_answers = load_obj('data/essaySet_3_model_answers')\n",
    "docs_3 = df.query(f'EssaySet == {3}')[\"EssayText\"].values.tolist()\n",
    "siamese_scores_3 = cos_sim(model.encode(ess_3_model_answers),model.encode(docs_3))"
   ]
  },
  {
   "cell_type": "code",
   "execution_count": 78,
   "metadata": {},
   "outputs": [
    {
     "data": {
      "text/plain": [
       "(2, 1891)"
      ]
     },
     "execution_count": 78,
     "metadata": {},
     "output_type": "execute_result"
    }
   ],
   "source": [
    "np.vstack((siamese_scores_3.__array__().max(axis=0).reshape(-1,),\n",
    "    df[df['EssaySet'] == 3]['score_gn_1'].values.reshape(-1,))).shape"
   ]
  },
  {
   "cell_type": "code",
   "execution_count": 87,
   "metadata": {},
   "outputs": [],
   "source": [
    "n_df = pd.DataFrame(np.vstack((np.median(siamese_scores_3.__array__(),axis=0).reshape(-1,),\n",
    "    df[df['EssaySet'] == 3]['score_gn_1'].values.reshape(-1,))).T,\n",
    "    columns=['siamese_score', 'label'])"
   ]
  },
  {
   "cell_type": "code",
   "execution_count": 88,
   "metadata": {},
   "outputs": [],
   "source": [
    "X = n_df[[ 'siamese_score',]]\n",
    "y = n_df['label']\n",
    "X_train, X_test, y_train, y_test = train_test_split(X, y, test_size=0.2, random_state=42)"
   ]
  },
  {
   "cell_type": "code",
   "execution_count": 91,
   "metadata": {},
   "outputs": [],
   "source": [
    "for model_name, mod in models_dict.items():\n",
    "    mod.fit(X_train, y_train)\n",
    "    clear_output()"
   ]
  },
  {
   "cell_type": "code",
   "execution_count": 92,
   "metadata": {},
   "outputs": [
    {
     "name": "stdout",
     "output_type": "stream",
     "text": [
      "l_rg MSE: 0.10884380458524429\n",
      "l_rg R2: 0.006063815867958677\n",
      "l_svr MSE: 0.11170521242003192\n",
      "l_svr R2: -0.020065891701450456\n",
      "l_dt MSE: 0.1920889564495022\n",
      "l_dt R2: -0.7541114546193219\n",
      "l_rf MSE: 0.1447664103066091\n",
      "l_rf R2: -0.32197302362720914\n",
      "l_gb MSE: 0.10723206960803724\n",
      "l_gb R2: 0.020781802979689012\n",
      "l_xgb MSE: 0.12429180899824992\n",
      "l_xgb R2: -0.13500374987201447\n",
      "l_lgb MSE: 0.10869216422323673\n",
      "l_lgb R2: 0.007448560211915867\n",
      "l_cat MSE: 0.11236932563779878\n",
      "l_cat R2: -0.026130418387320553\n",
      "l_mlp MSE: 0.10895347903859515\n",
      "l_mlp R2: 0.00506229439344108\n",
      "l_gpr MSE: 0.10960023097986328\n",
      "l_gpr R2: -0.0008436931731785613\n"
     ]
    }
   ],
   "source": [
    "for model_name, mod in models_dict.items():\n",
    "    print(f\"{model_name} MSE:\", mean_squared_error(y_test, mod.predict(X_test)))\n",
    "    print(f\"{model_name} R2:\", r2_score(y_test, mod.predict(X_test)))"
   ]
  },
  {
   "cell_type": "code",
   "execution_count": 93,
   "metadata": {},
   "outputs": [
    {
     "data": {
      "image/png": "[encoded data removed]",
      "text/plain": [
       "<Figure size 432x288 with 1 Axes>"
      ]
     },
     "metadata": {
      "needs_background": "light"
     },
     "output_type": "display_data"
    }
   ],
   "source": [
    "plt.scatter(models_dict['l_dt'].predict(X_test),np.arange(0,len(y_test)), color='blue')\n",
    "plt.scatter(y_test ,np.arange(0,len(y_test)), color='red');"
   ]
  }
 ],
 "metadata": {
  "kernelspec": {
   "display_name": "Python 3.9.2 64-bit",
   "language": "python",
   "name": "python3"
  },
  "language_info": {
   "codemirror_mode": {
    "name": "ipython",
    "version": 3
   },
   "file_extension": ".py",
   "mimetype": "text/x-python",
   "name": "python",
   "nbconvert_exporter": "python",
   "pygments_lexer": "ipython3",
   "version": "3.9.2"
  },
  "orig_nbformat": 4,
  "vscode": {
   "interpreter": {
    "hash": "0f876b07db73824ba94c3da26a300833b9286c0dd0d4e31723ae4574ddd9b9bb"
   }
  }
 },
 "nbformat": 4,
 "nbformat_minor": 2
}
