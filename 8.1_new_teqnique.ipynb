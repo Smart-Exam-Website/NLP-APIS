{
 "cells": [
  {
   "cell_type": "code",
   "execution_count": 16,
   "metadata": {},
   "outputs": [],
   "source": [
    "import time\n",
    "import os\n",
    "import itertools\n",
    "import numpy as np\n",
    "import pandas as pd\n",
    "import matplotlib.pyplot as plt\n",
    "import plotly.express as px\n",
    "from sentence_transformers.util import cos_sim\n",
    "import sys\n",
    "import key_words\n",
    "from IPython.display import clear_output\n",
    "\n",
    "import pickle\n",
    "def save_obj(obj:object,name:str):\n",
    "    ext = '.pickle'\n",
    "    with open(name + ext, 'wb') as handle:\n",
    "        pickle.dump(obj, handle, protocol=pickle.HIGHEST_PROTOCOL)\n",
    "\n",
    "def load_obj(name:str)->object:\n",
    "    ext = '.pickle'\n",
    "    with open(name + ext, 'rb') as handle:\n",
    "        return pickle.load(handle)"
   ]
  },
  {
   "cell_type": "code",
   "execution_count": 6,
   "metadata": {},
   "outputs": [],
   "source": [
    "train_path = \"data/train_phase1.tsv\"\n",
    "df = pd.read_csv(train_path, sep=\"\\t\")"
   ]
  },
  {
   "cell_type": "code",
   "execution_count": 3,
   "metadata": {},
   "outputs": [],
   "source": [
    "def maximal_marginal_relevance(doc_embedding: np.ndarray,\n",
    "        word_embeddings: np.ndarray,\n",
    "        words,\n",
    "        top_n = 5,\n",
    "        diversity = 0.8):\n",
    "    \"\"\"\n",
    "    Maximal Marginal Relevance algorithm for keyword extraction\n",
    "    * from KeyBERT repository on github\n",
    "\n",
    "    Args:\n",
    "        doc_embedding (numpy.ndarray): embedding of shape (1, 768)\n",
    "        word_embeddings (numpy.ndarray): embedding of shape (N, 768)\n",
    "        words (List[str]): list of words\n",
    "        top_n (Optional[int]): number of top words to extract\n",
    "        diversity (Optional[float]): diversity of top words to extract\n",
    "\n",
    "    Returns:\n",
    "        List[Tuple[str, float]]: list of top_n words with their scores\n",
    "    \"\"\"\n",
    "    # make sure 2d array\n",
    "    if doc_embedding.ndim == 1:\n",
    "        doc_embedding = doc_embedding.reshape(1, -1)\n",
    "\n",
    "    # Extract similarity within words, and between words and the document\n",
    "\n",
    "    word_doc_similarity = np.array(cos_sim(word_embeddings, doc_embedding)).clip(-1, 1).round(6)\n",
    "    word_similarity = np.array(cos_sim(word_embeddings, word_embeddings)).clip(-1, 1).round(6)\n",
    "\n",
    "    # Initialize candidates and already choose best keyword/keyphras\n",
    "    keywords_idx = [np.argmax(word_doc_similarity)]\n",
    "    candidates_idx = [i for i in range(len(words)) if i != keywords_idx[0]]\n",
    "\n",
    "    for _ in range(top_n - 1):\n",
    "        # Extract similarities within candidates and\n",
    "        # between candidates and selected keywords/phrases\n",
    "        candidate_similarities = word_doc_similarity[candidates_idx, :]\n",
    "        target_similarities = np.max(word_similarity[candidates_idx][:, keywords_idx], axis=1)\n",
    "\n",
    "        # Calculate maximal_marginal_relevance\n",
    "        mmr = (1-diversity) * candidate_similarities -\\\n",
    "            diversity * target_similarities.reshape(-1, 1)\n",
    "        # if return mmr is empty\n",
    "        if mmr.size == 0:\n",
    "            continue\n",
    "        mmr = candidates_idx[np.argmax(mmr)]\n",
    "\n",
    "        # Update keywords & candidates\n",
    "        keywords_idx.append(mmr)\n",
    "        candidates_idx.remove(mmr)\n",
    "\n",
    "    return [words[idx] for idx in keywords_idx]\n",
    "\n",
    "def emb_keywords(keywords):\n",
    "    # x = np.array(list(map(lambda k: np.array(list(map(lambda x: BERT.model.encode(str(x)), k))),keywords)))\n",
    "    x = np.array(list(map(lambda k: np.array(list(map(lambda x: get_words_emb(str(x)), k))),keywords)))\n",
    "    if x.ndim == 3:\n",
    "        x = x.reshape(max(x.shape[1],x.shape[0]),x.shape[2])\n",
    "    return x\n",
    "\n",
    "def get_candidates(n_grams, doc):\n",
    "    x = list(map(lambda gram :\n",
    "        key_words.candidates_tokens(str(doc), n_gram_range=gram)\n",
    "        , n_grams))\n",
    "    return x\n",
    "\n",
    "def match_keywords(\n",
    "    keywords_emb:list[np.ndarray],\n",
    "    candidates_emb : list[np.ndarray],\n",
    "    thershold: float)\\\n",
    "        -> float:\n",
    "    \"\"\"\n",
    "    match keywords with candidates in a document\n",
    "\n",
    "    Args:\n",
    "        keywords_emb (List[np.ndarray]): list of keywords embeddings\n",
    "        candidates_emb (List[np.ndarray]): list of document's candidates embeddings\n",
    "        thershold (float): threshold\n",
    "\n",
    "    Returns:\n",
    "        float: score\n",
    "    \n",
    "    example:\n",
    "        >>> match_keywords(keywords_emb, candidates_emb, thershold=0.5)\n",
    "        >>> 0.8\n",
    "    \"\"\"\n",
    "    similarities = list(map(lambda cand:\n",
    "                    cos_sim(np.array(keywords_emb), cand.reshape(cand.shape[0],cand.shape[1])).__array__().max(axis=1).round(6).clip(-1, 1),\n",
    "                    candidates_emb))\n",
    "    return similarities\n",
    "\n",
    "def para_keywords_pipeline_output_dict(keywords,docs,n_gram_list,batch = 50):\n",
    "\n",
    "    def check_n_gram_dict(n_grams, doc, ind):\n",
    "        def fn(n_gram):\n",
    "            x = n_gram_dict[ind].get(n_gram)\n",
    "            if x is None:\n",
    "                x =  get_candidates([n_gram], doc)\n",
    "                n_gram_dict[ind][n_gram] = x\n",
    "                return x\n",
    "            else:\n",
    "                return x\n",
    "        return list(map(fn, n_grams))\n",
    "\n",
    "    n_docs = len(docs)\n",
    "    if n_docs < batch:\n",
    "        batch = n_docs\n",
    "    \n",
    "    n_gram_dict = {ind: {n_gram: None for n_gram in set([item for sublist in n_gram_list for item in sublist])} for ind ,doc in enumerate(docs)}\n",
    "\n",
    "    n_grams_list = []\n",
    "    students_candidates_list = []\n",
    "    keywords_embeddings_list = []\n",
    "    students_candidates_emb_list = []\n",
    "    times = []\n",
    "\n",
    "    # all model answers\n",
    "    for ind, ans in enumerate(keywords):\n",
    "        print(\"model answer\",ind)\n",
    "        t1 = time.perf_counter()\n",
    "        students_n_grams = key_words.get_n_grams(ans)\n",
    "        keywords_embeddings =  list(map(model.encode, ans))\n",
    "\n",
    "        students_candidates_list_s = []\n",
    "        students_candidates_emb_list_s = []\n",
    "        # do in batches\n",
    "        for i in range(0,n_docs,batch):\n",
    "            students_candidates = list(map(lambda doc:\n",
    "                            check_n_gram_dict(students_n_grams, doc[1], i+doc[0]),\n",
    "                            enumerate(docs[i:i+batch])))\n",
    "            students_candidates_emb =  list(map( lambda st: list(map( emb_keywords ,st)), students_candidates))\n",
    "            # students_candidates_emb =  list(map(emb_d, students_candidates))\n",
    "            students_candidates_list_s.extend(students_candidates)\n",
    "            students_candidates_emb_list_s.extend(students_candidates_emb)\n",
    "\n",
    "        if n_docs % batch != 0 and n_docs > batch:\n",
    "            students_candidates = list(map(lambda doc:\n",
    "                            check_n_gram_dict(students_n_grams, doc[1], i+doc[0]),\n",
    "                            enumerate(docs[i+batch:])))\n",
    "            students_candidates_emb =  list(map( lambda st: list(map( emb_keywords ,st)), students_candidates))\n",
    "\n",
    "            students_candidates_list_s.extend(students_candidates)\n",
    "            students_candidates_emb_list_s.extend(students_candidates_emb)\n",
    "\n",
    "        n_grams_list.append(students_n_grams)\n",
    "        keywords_embeddings_list.append(keywords_embeddings)\n",
    "        students_candidates_list.append(students_candidates_list_s)\n",
    "        students_candidates_emb_list.append(students_candidates_emb_list_s)\n",
    "        times.append(time.perf_counter() - t1)\n",
    "    return {\n",
    "        \"n_gram_dict\": n_gram_dict,\n",
    "        \"n_grams_list\": n_grams_list,\n",
    "        \"students_candidates_list\": students_candidates_list,\n",
    "        \"keywords_embeddings_list\": keywords_embeddings_list,\n",
    "        \"students_candidates_emb_list\": students_candidates_emb_list,\n",
    "        \"times\": times\n",
    "    }\n",
    "\n",
    "def get_words_emb(word):\n",
    "    if word in words_emb_dict:\n",
    "        return words_emb_dict[word]\n",
    "    else:\n",
    "        words_emb_dict[word] = model.encode(word)\n",
    "        return words_emb_dict[word]\n",
    "\n",
    "def grading(keywords_embeddings_list,students_candidates_emb_list,thershold=0.5):\n",
    "    \"\"\"\n",
    "    Args:\n",
    "        keywords_embeddings_list: list of list of list of embeddings\n",
    "        students_candidates_emb_list: list of list of list of embeddings\n",
    "        thershold: thershold for the similarity\n",
    "    Returns:\n",
    "        a list of list of list of grades\n",
    "    \"\"\"\n",
    "    grades = []\n",
    "    for i in range(len(keywords_embeddings_list)):\n",
    "        grades.append(np.array(list(map(lambda st_cand:\n",
    "                match_keywords(keywords_embeddings_list[i], st_cand,\n",
    "                thershold=thershold),\n",
    "                students_candidates_emb_list[i]\n",
    "                ))))\n",
    "    grades = np.array(list(map(lambda sim: (sim.__array__().max(axis=1) >thershold).sum(axis=1)/float(sim.shape[-1]) , grades)))\n",
    "    return grades"
   ]
  },
  {
   "cell_type": "code",
   "execution_count": 4,
   "metadata": {},
   "outputs": [],
   "source": [
    "words_emb_dict = {}"
   ]
  },
  {
   "cell_type": "code",
   "execution_count": 4,
   "metadata": {},
   "outputs": [],
   "source": [
    "from sentence_transformers import SentenceTransformer\n",
    "model = SentenceTransformer(\"sentence-transformers/paraphrase-multilingual-MiniLM-L12-v2\")"
   ]
  },
  {
   "cell_type": "code",
   "execution_count": 4,
   "metadata": {},
   "outputs": [],
   "source": [
    "ess_3_model_answers = load_obj('data/essaySet_3_model_answers')\n",
    "docs = df.query(f'EssaySet == {3}')[\"EssayText\"].values.tolist()"
   ]
  },
  {
   "cell_type": "code",
   "execution_count": 7,
   "metadata": {},
   "outputs": [
    {
     "data": {
      "text/plain": [
       "425.2485177"
      ]
     },
     "execution_count": 7,
     "metadata": {},
     "output_type": "execute_result"
    }
   ],
   "source": [
    "t1 = time.perf_counter()\n",
    "docs_candidates = list(map(lambda ans: key_words.candidates_tokens(ans,n_gram_range=(2,3)),docs))\n",
    "docs_candidate_emb = list(map(lambda cand:model.encode(cand),docs_candidates))\n",
    "\n",
    "docs_emb = model.encode(docs)\n",
    "\n",
    "docs_keywords = list(map(lambda x: maximal_marginal_relevance(\n",
    "    x[0].reshape(1, -1),x[1],x[2],top_n=10 ,diversity=0.8),\n",
    "    zip(docs_emb,docs_candidate_emb,docs_candidates)))\n",
    "\n",
    "time.perf_counter() - t1"
   ]
  },
  {
   "cell_type": "code",
   "execution_count": 10,
   "metadata": {},
   "outputs": [],
   "source": [
    "model_candidates = list(map(lambda ans: key_words.candidates_tokens(ans,n_gram_range=(2,3)),ess_3_model_answers))\n",
    "model_candidate_emb = list(map(lambda cand:model.encode(cand),model_candidates))\n",
    "keywords = list(map(lambda x: maximal_marginal_relevance(\n",
    "    x[0].reshape(1, -1),x[1],x[2],top_n=10,diversity=0.8),\n",
    "    zip(model.encode(ess_3_model_answers),\n",
    "    model_candidate_emb,model_candidates)))"
   ]
  },
  {
   "cell_type": "code",
   "execution_count": 11,
   "metadata": {},
   "outputs": [
    {
     "name": "stdout",
     "output_type": "stream",
     "text": [
      "92.4907568000001\n"
     ]
    }
   ],
   "source": [
    "t1 = time.perf_counter()\n",
    "docs_keywords_emb = list(map(lambda x: model.encode(x),docs_keywords))\n",
    "print(time.perf_counter() - t1)"
   ]
  },
  {
   "cell_type": "code",
   "execution_count": 12,
   "metadata": {},
   "outputs": [
    {
     "name": "stdout",
     "output_type": "stream",
     "text": [
      "1.0961783000000196\n"
     ]
    }
   ],
   "source": [
    "t1 = time.perf_counter()\n",
    "keywords_emb = list(map(lambda x: model.encode(x),keywords))\n",
    "print(time.perf_counter() - t1)"
   ]
  },
  {
   "cell_type": "code",
   "execution_count": 42,
   "metadata": {},
   "outputs": [],
   "source": [
    "s = list(map(lambda model_emb:\n",
    "    list(map(lambda doc_emb: cos_sim(model_emb,doc_emb).__array__().max(axis=1), docs_keywords_emb)),keywords_emb))"
   ]
  },
  {
   "cell_type": "code",
   "execution_count": 57,
   "metadata": {},
   "outputs": [
    {
     "name": "stdout",
     "output_type": "stream",
     "text": [
      "5 (9, 384)\n",
      "125 (1, 384)\n",
      "226 (9, 384)\n",
      "266 (9, 384)\n",
      "551 (1, 384)\n",
      "560 (7, 384)\n",
      "609 (1, 384)\n",
      "897 (7, 384)\n",
      "906 (7, 384)\n",
      "1137 (5, 384)\n",
      "1453 (7, 384)\n",
      "1457 (7, 384)\n",
      "1633 (7, 384)\n",
      "1703 (7, 384)\n",
      "1887 (7, 384)\n"
     ]
    }
   ],
   "source": [
    "for i in range(len(docs_keywords_emb)):\n",
    "    if len(docs_keywords_emb[i]) !=10:\n",
    "        print(i,docs_keywords_emb[i].shape)"
   ]
  },
  {
   "cell_type": "code",
   "execution_count": 60,
   "metadata": {},
   "outputs": [
    {
     "data": {
      "text/plain": [
       "(1891, 10)"
      ]
     },
     "execution_count": 60,
     "metadata": {},
     "output_type": "execute_result"
    }
   ],
   "source": [
    "np.array(s)[0].shape"
   ]
  },
  {
   "cell_type": "code",
   "execution_count": 61,
   "metadata": {},
   "outputs": [
    {
     "data": {
      "text/plain": [
       "(1891, 10)"
      ]
     },
     "execution_count": 61,
     "metadata": {},
     "output_type": "execute_result"
    }
   ],
   "source": [
    "np.array(s).max(axis=0).shape"
   ]
  },
  {
   "cell_type": "code",
   "execution_count": 54,
   "metadata": {},
   "outputs": [],
   "source": [
    "for i in range(len(s)):\n",
    "    for j in range(len(s[i])):\n",
    "        if s[i][j].shape[0] != 10:\n",
    "            print(i,j,s[i][j].shape)"
   ]
  },
  {
   "cell_type": "code",
   "execution_count": 49,
   "metadata": {},
   "outputs": [
    {
     "name": "stdout",
     "output_type": "stream",
     "text": [
      "22\n",
      "1891\n",
      "(10,)\n"
     ]
    }
   ],
   "source": [
    "print(len(s))\n",
    "print(len(s[0]))\n",
    "print(s[0][-1].shape)"
   ]
  },
  {
   "cell_type": "code",
   "execution_count": 62,
   "metadata": {},
   "outputs": [],
   "source": [
    "# save the data\n",
    "os.makedirs('data/new_results', exist_ok=True)\n",
    "save_obj(s,'data/new_results/essaySet_3_model_answers_grades')\n",
    "save_obj(docs_keywords,'data/new_results/essaySet_3_model_answers_keywords')\n",
    "save_obj(docs_keywords_emb,'data/new_results/essaySet_3_model_answers_keywords_emb')\n",
    "save_obj(docs_candidates,'data/new_results/essaySet_3_model_answers_candidates')\n",
    "save_obj(docs_candidate_emb,'data/new_results/essaySet_3_model_answers_candidates_emb')\n",
    "save_obj(keywords,'data/new_results/essaySet_3_model_answers_keywords')\n",
    "save_obj(keywords_emb,'data/new_results/essaySet_3_model_answers_keywords_emb')\n",
    "save_obj(model_candidates,'data/new_results/essaySet_3_model_answers_candidates')\n",
    "save_obj(model_candidate_emb,'data/new_results/essaySet_3_model_answers_candidates_emb')\n",
    "save_obj(docs_emb,'data/new_results/essaySet_3_model_answers_docs_emb')"
   ]
  },
  {
   "cell_type": "markdown",
   "metadata": {},
   "source": [
    "# output"
   ]
  },
  {
   "cell_type": "code",
   "execution_count": 6,
   "metadata": {},
   "outputs": [],
   "source": [
    "# load the data from data new folder\n",
    "s = load_obj('data/new_results/essaySet_3_model_answers_grades')\n",
    "# docs_keywords = load_obj('data/new_results/essaySet_3_model_answers_keywords')\n",
    "# docs_keywords_emb = load_obj('data/new_results/essaySet_3_model_answers_keywords_emb')\n",
    "# docs_candidates = load_obj('data/new_results/essaySet_3_model_answers_candidates')\n",
    "# docs_candidate_emb = load_obj('data/new_results/essaySet_3_model_answers_candidates_emb')\n",
    "# keywords = load_obj('data/new_results/essaySet_3_model_answers_keywords')\n",
    "# keywords_emb = load_obj('data/new_results/essaySet_3_model_answers_keywords_emb')\n",
    "# model_candidates = load_obj('data/new_results/essaySet_3_model_answers_candidates')\n",
    "# model_candidate_emb = load_obj('data/new_results/essaySet_3_model_answers_candidates_emb')\n",
    "# docs_emb = load_obj('data/new_results/essaySet_3_model_answers_docs_emb')"
   ]
  },
  {
   "cell_type": "code",
   "execution_count": 8,
   "metadata": {},
   "outputs": [
    {
     "data": {
      "text/plain": [
       "(22, 1891, 10)"
      ]
     },
     "execution_count": 8,
     "metadata": {},
     "output_type": "execute_result"
    }
   ],
   "source": [
    "np.array(s).shape"
   ]
  },
  {
   "cell_type": "code",
   "execution_count": 160,
   "metadata": {},
   "outputs": [
    {
     "data": {
      "text/plain": [
       "['pandas china similar',\n",
       " 'specialists eats',\n",
       " 'pythons different places',\n",
       " 'live world',\n",
       " 'food koalas',\n",
       " 'bears australia specialists',\n",
       " 'different places',\n",
       " 'similar koala bears',\n",
       " 'eats type food',\n",
       " 'china similar koala']"
      ]
     },
     "execution_count": 160,
     "metadata": {},
     "output_type": "execute_result"
    }
   ],
   "source": [
    "keywords[0]"
   ]
  },
  {
   "cell_type": "code",
   "execution_count": null,
   "metadata": {},
   "outputs": [],
   "source": [
    "def para_keywords_pipeline_output_dict(keywords,docs,n_gram_list,batch = 50):\n",
    "\n",
    "    def check_n_gram_dict(n_grams, doc, ind):\n",
    "        def fn(n_gram):\n",
    "            x = n_gram_dict[ind].get(n_gram)\n",
    "            if x is None:\n",
    "                x =  get_candidates([n_gram], doc)\n",
    "                n_gram_dict[ind][n_gram] = x\n",
    "                return x\n",
    "            else:\n",
    "                return x\n",
    "        return list(map(fn, n_grams))\n",
    "\n",
    "    n_docs = len(docs)\n",
    "    if n_docs < batch:\n",
    "        batch = n_docs\n",
    "    \n",
    "    n_gram_dict = {ind: {n_gram: None for n_gram in set([item for sublist in n_gram_list for item in sublist])} for ind ,doc in enumerate(docs)}\n",
    "\n",
    "    n_grams_list = []\n",
    "    students_candidates_list = []\n",
    "    keywords_embeddings_list = []\n",
    "    students_candidates_emb_list = []\n",
    "    times = []\n",
    "\n",
    "    # all model answers\n",
    "    for ind, ans in enumerate(keywords):\n",
    "        print(\"model answer\",ind)\n",
    "        t1 = time.perf_counter()\n",
    "        students_n_grams = key_words.get_n_grams(ans)\n",
    "        keywords_embeddings =  list(map(model.encode, ans))\n",
    "\n",
    "        students_candidates_list_s = []\n",
    "        students_candidates_emb_list_s = []\n",
    "        # do in batches\n",
    "        students_candidates = list(map(lambda ans: key_words.candidates_tokens(ans,n_gram_range=(3,3)),docs))\n",
    "\n",
    "        for i in range(0,n_docs,batch):\n",
    "            students_candidates_emb =  list(map( lambda st: list(map( emb_keywords ,st)), students_candidates))\n",
    "            # students_candidates_emb =  list(map(emb_d, students_candidates))\n",
    "            # students_candidates_list_s.extend(students_candidates)\n",
    "            students_candidates_emb_list_s.extend(students_candidates_emb)\n",
    "\n",
    "        if n_docs % batch != 0 and n_docs > batch:\n",
    "            # students_candidates = list(map(lambda doc:\n",
    "            #                 check_n_gram_dict(students_n_grams, doc[1], i+doc[0]),\n",
    "            #                 enumerate(docs[i+batch:])))\n",
    "            students_candidates_emb =  list(map( lambda st: list(map( emb_keywords ,st)), students_candidates))\n",
    "\n",
    "            # students_candidates_list_s.extend(students_candidates)\n",
    "            students_candidates_emb_list_s.extend(students_candidates_emb)\n",
    "\n",
    "        n_grams_list.append(students_n_grams)\n",
    "        keywords_embeddings_list.append(keywords_embeddings)\n",
    "        students_candidates_list.append(students_candidates)\n",
    "        # students_candidates_list.append(students_candidates_list_s)\n",
    "        students_candidates_emb_list.append(students_candidates_emb_list_s)\n",
    "        times.append(time.perf_counter() - t1)\n",
    "    return {\n",
    "        \"n_gram_dict\": n_gram_dict,\n",
    "        \"n_grams_list\": n_grams_list,\n",
    "        \"students_candidates_list\": students_candidates_list,\n",
    "        \"keywords_embeddings_list\": keywords_embeddings_list,\n",
    "        \"students_candidates_emb_list\": students_candidates_emb_list,\n",
    "        \"times\": times\n",
    "    }"
   ]
  },
  {
   "cell_type": "code",
   "execution_count": 11,
   "metadata": {},
   "outputs": [],
   "source": [
    "top_n_l = [7]*10\n",
    "diversity_l = [0.6,0.6, 0.7,0.7,0.7,0.7,0.6,0.7,0.7,0.7]\n",
    "ngram_range_l = [(2,2),(2,2),(2,3),(2,3),(2,3),(2,3),(2,2),(2,3),(2,3),(2,3)]"
   ]
  },
  {
   "cell_type": "code",
   "execution_count": 18,
   "metadata": {},
   "outputs": [],
   "source": [
    "dd = load_obj(f'data/results/new_keywords_res_essay_{1}')"
   ]
  },
  {
   "cell_type": "markdown",
   "metadata": {},
   "source": [
    "## tune threshold"
   ]
  },
  {
   "cell_type": "code",
   "execution_count": 7,
   "metadata": {},
   "outputs": [],
   "source": [
    "from IPython.display import clear_output\n",
    "\n",
    "df_dict ={}\n",
    "\n",
    "for i in range(1,11):\n",
    "    df_dict['ess_'+str(i)+'_keywords'] = pd.DataFrame(df[df['EssaySet'] == i]['score_gn_1'])\n",
    "    # remove index\n",
    "    df_dict['ess_'+str(i)+'_keywords'].reset_index(drop=True, inplace=True)"
   ]
  },
  {
   "cell_type": "code",
   "execution_count": 8,
   "metadata": {},
   "outputs": [],
   "source": [
    "def n_grading(keywords_emb, docs_keywords_emb, threshold = 0.5):\n",
    "    # return np.array(list(map(lambda model_ans:\n",
    "    #         np.array(list(map(lambda st: cos_sim(model_ans,st),docs_keywords_emb))),keywords_emb)))\n",
    "    s = list(map(lambda model_emb: \n",
    "    list(map(lambda doc_emb: cos_sim(model_emb,doc_emb).__array__().max(axis=1), docs_keywords_emb)),keywords_emb))\n",
    "    return np.array(s)"
   ]
  },
  {
   "cell_type": "code",
   "execution_count": 77,
   "metadata": {},
   "outputs": [],
   "source": [
    "kwrds_model_1 = pd.DataFrame(np.array(s)[0])"
   ]
  },
  {
   "cell_type": "code",
   "execution_count": 78,
   "metadata": {},
   "outputs": [
    {
     "data": {
      "text/html": [
       "<div>\n",
       "<style scoped>\n",
       "    .dataframe tbody tr th:only-of-type {\n",
       "        vertical-align: middle;\n",
       "    }\n",
       "\n",
       "    .dataframe tbody tr th {\n",
       "        vertical-align: top;\n",
       "    }\n",
       "\n",
       "    .dataframe thead th {\n",
       "        text-align: right;\n",
       "    }\n",
       "</style>\n",
       "<table border=\"1\" class=\"dataframe\">\n",
       "  <thead>\n",
       "    <tr style=\"text-align: right;\">\n",
       "      <th></th>\n",
       "      <th>0</th>\n",
       "      <th>1</th>\n",
       "      <th>2</th>\n",
       "      <th>3</th>\n",
       "      <th>4</th>\n",
       "      <th>5</th>\n",
       "      <th>6</th>\n",
       "      <th>7</th>\n",
       "      <th>8</th>\n",
       "      <th>9</th>\n",
       "      <th>score_gn_1</th>\n",
       "    </tr>\n",
       "  </thead>\n",
       "  <tbody>\n",
       "    <tr>\n",
       "      <th>0</th>\n",
       "      <td>0.837305</td>\n",
       "      <td>0.422338</td>\n",
       "      <td>0.573613</td>\n",
       "      <td>0.320906</td>\n",
       "      <td>0.908609</td>\n",
       "      <td>0.471892</td>\n",
       "      <td>0.210106</td>\n",
       "      <td>0.686953</td>\n",
       "      <td>0.560191</td>\n",
       "      <td>0.693069</td>\n",
       "      <td>0.490941</td>\n",
       "    </tr>\n",
       "    <tr>\n",
       "      <th>1</th>\n",
       "      <td>0.857505</td>\n",
       "      <td>0.665791</td>\n",
       "      <td>0.639898</td>\n",
       "      <td>0.354995</td>\n",
       "      <td>0.594003</td>\n",
       "      <td>0.721938</td>\n",
       "      <td>0.413970</td>\n",
       "      <td>0.757992</td>\n",
       "      <td>0.672203</td>\n",
       "      <td>0.724064</td>\n",
       "      <td>0.501053</td>\n",
       "    </tr>\n",
       "    <tr>\n",
       "      <th>2</th>\n",
       "      <td>0.826201</td>\n",
       "      <td>0.452897</td>\n",
       "      <td>0.695122</td>\n",
       "      <td>0.382576</td>\n",
       "      <td>0.695319</td>\n",
       "      <td>0.460464</td>\n",
       "      <td>0.404087</td>\n",
       "      <td>0.651537</td>\n",
       "      <td>0.663255</td>\n",
       "      <td>0.855351</td>\n",
       "      <td>0.512069</td>\n",
       "    </tr>\n",
       "    <tr>\n",
       "      <th>3</th>\n",
       "      <td>0.892339</td>\n",
       "      <td>0.518353</td>\n",
       "      <td>0.639417</td>\n",
       "      <td>0.261189</td>\n",
       "      <td>0.735989</td>\n",
       "      <td>0.355202</td>\n",
       "      <td>0.320354</td>\n",
       "      <td>0.583015</td>\n",
       "      <td>0.751305</td>\n",
       "      <td>0.772607</td>\n",
       "      <td>1.000000</td>\n",
       "    </tr>\n",
       "    <tr>\n",
       "      <th>4</th>\n",
       "      <td>0.970666</td>\n",
       "      <td>0.539734</td>\n",
       "      <td>0.745090</td>\n",
       "      <td>0.382576</td>\n",
       "      <td>0.772379</td>\n",
       "      <td>0.585845</td>\n",
       "      <td>0.404087</td>\n",
       "      <td>0.708652</td>\n",
       "      <td>0.186656</td>\n",
       "      <td>0.931490</td>\n",
       "      <td>0.000000</td>\n",
       "    </tr>\n",
       "  </tbody>\n",
       "</table>\n",
       "</div>"
      ],
      "text/plain": [
       "          0         1         2         3         4         5         6  \\\n",
       "0  0.837305  0.422338  0.573613  0.320906  0.908609  0.471892  0.210106   \n",
       "1  0.857505  0.665791  0.639898  0.354995  0.594003  0.721938  0.413970   \n",
       "2  0.826201  0.452897  0.695122  0.382576  0.695319  0.460464  0.404087   \n",
       "3  0.892339  0.518353  0.639417  0.261189  0.735989  0.355202  0.320354   \n",
       "4  0.970666  0.539734  0.745090  0.382576  0.772379  0.585845  0.404087   \n",
       "\n",
       "          7         8         9  score_gn_1  \n",
       "0  0.686953  0.560191  0.693069    0.490941  \n",
       "1  0.757992  0.672203  0.724064    0.501053  \n",
       "2  0.651537  0.663255  0.855351    0.512069  \n",
       "3  0.583015  0.751305  0.772607    1.000000  \n",
       "4  0.708652  0.186656  0.931490    0.000000  "
      ]
     },
     "execution_count": 78,
     "metadata": {},
     "output_type": "execute_result"
    }
   ],
   "source": [
    "kwrds_model_1 = pd.concat([kwrds_model_1,df_dict['ess_3_keywords']],axis=1)\n",
    "kwrds_model_1.head()"
   ]
  },
  {
   "cell_type": "markdown",
   "metadata": {},
   "source": [
    "# train"
   ]
  },
  {
   "cell_type": "code",
   "execution_count": null,
   "metadata": {},
   "outputs": [],
   "source": [
    "from sklearn.linear_model import LinearRegression\n",
    "from sklearn.tree import DecisionTreeRegressor\n",
    "from sklearn.ensemble import RandomForestRegressor\n",
    "from sklearn.ensemble import GradientBoostingRegressor\n",
    "from sklearn.gaussian_process import GaussianProcessRegressor\n",
    "from sklearn.svm import SVR\n",
    "from sklearn.neural_network import MLPRegressor\n",
    "from xgboost import XGBRegressor\n",
    "from lightgbm import LGBMRegressor\n",
    "from catboost import CatBoostRegressor"
   ]
  },
  {
   "cell_type": "markdown",
   "metadata": {},
   "source": [
    "## score gn"
   ]
  },
  {
   "cell_type": "code",
   "execution_count": 79,
   "metadata": {},
   "outputs": [],
   "source": [
    "# train the model\n",
    "X = kwrds_model_1.drop(['score_gn_1'],axis=1)\n",
    "# y = kwrds_model_1['Score1']\n",
    "y = kwrds_model_1['score_gn_1']\n",
    "X_train, X_test, y_train, y_test = train_test_split(X, y, test_size=0.2, random_state=42)\n",
    "models_dict = {\n",
    "    'l_rg': LinearRegression(),\n",
    "    'l_svr': SVR(),\n",
    "    # 'l_knr': KNeighborsRegressor(),\n",
    "    'l_dt': DecisionTreeRegressor(),\n",
    "    'l_rf': RandomForestRegressor(),\n",
    "    'l_gb': GradientBoostingRegressor(),\n",
    "    'l_xgb': XGBRegressor(),\n",
    "    'l_lgb': LGBMRegressor(),\n",
    "    'l_cat': CatBoostRegressor(),\n",
    "    'l_mlp': MLPRegressor(),\n",
    "    # 'l_ada': AdaBoostRegressor(),\n",
    "    'l_gpr': GaussianProcessRegressor(),\n",
    "}\n",
    "for model_name, mod in models_dict.items():\n",
    "    mod.fit(X_train, y_train)\n",
    "clear_output()"
   ]
  },
  {
   "cell_type": "code",
   "execution_count": 80,
   "metadata": {},
   "outputs": [
    {
     "name": "stdout",
     "output_type": "stream",
     "text": [
      "l_rg MSE: 0.10710329118581877\n",
      "l_rg R2: 0.021957777432861758\n",
      "l_svr MSE: 0.11525404127518456\n",
      "l_svr R2: -0.05247296736247775\n",
      "l_dt MSE: 0.18152888799577185\n",
      "l_dt R2: -0.6576793776346037\n",
      "l_rf MSE: 0.11064180352932429\n",
      "l_rf R2: -0.010355090255014021\n",
      "l_gb MSE: 0.11253402993431857\n",
      "l_gb R2: -0.02763445952789656\n",
      "l_xgb MSE: 0.1363884140953992\n",
      "l_xgb R2: -0.24546712035991747\n",
      "l_lgb MSE: 0.1220731503505324\n",
      "l_lgb R2: -0.11474347765342596\n",
      "l_cat MSE: 0.11874790214478582\n",
      "l_cat R2: -0.08437808822675286\n",
      "l_mlp MSE: 0.10641849984983744\n",
      "l_mlp R2: 0.02821113186130697\n",
      "l_gpr MSE: 52.428854482718464\n",
      "l_gpr R2: -477.7680452878236\n"
     ]
    }
   ],
   "source": [
    "for mod_name, mod in models_dict.items():\n",
    "    print(f\"{mod_name} MSE:\", mean_squared_error(y_test, mod.predict(X_test)))\n",
    "    print(f\"{mod_name} R2:\", r2_score(y_test, mod.predict(X_test)))"
   ]
  },
  {
   "cell_type": "code",
   "execution_count": 81,
   "metadata": {},
   "outputs": [
    {
     "name": "stdout",
     "output_type": "stream",
     "text": [
      "l_rg MSE: 0.10537809470371774\n",
      "l_rg R2: 0.025248165515698417\n",
      "l_svr MSE: 0.08722567743753308\n",
      "l_svr R2: 0.19315879324423113\n",
      "l_dt MSE: 0.0001310035177059902\n",
      "l_dt R2: 0.9987882119185506\n",
      "l_rf MSE: 0.01453660504597451\n",
      "l_rf R2: 0.8655357882909464\n",
      "l_gb MSE: 0.07335172935643414\n",
      "l_gb R2: 0.3214933999916241\n",
      "l_xgb MSE: 0.002293362951184971\n",
      "l_xgb R2: 0.9787862956709255\n",
      "l_lgb MSE: 0.02080765381026746\n",
      "l_lgb R2: 0.8075283218974644\n",
      "l_cat MSE: 0.021107626415543927\n",
      "l_cat R2: 0.8047535626070219\n",
      "l_mlp MSE: 0.10489501761596165\n",
      "l_mlp R2: 0.029716649016102492\n",
      "l_gpr MSE: 0.0001989206398683152\n",
      "l_gpr R2: 0.9981599756650222\n"
     ]
    }
   ],
   "source": [
    "for mod_name, mod in models_dict.items():\n",
    "    print(f\"{mod_name} MSE:\", mean_squared_error(y_train, mod.predict(X_train)))\n",
    "    print(f\"{mod_name} R2:\", r2_score(y_train, mod.predict(X_train)))"
   ]
  },
  {
   "cell_type": "code",
   "execution_count": 82,
   "metadata": {},
   "outputs": [
    {
     "data": {
      "text/plain": [
       "<AxesSubplot:title={'center':'Feature importance'}, xlabel='F score', ylabel='Features'>"
      ]
     },
     "execution_count": 82,
     "metadata": {},
     "output_type": "execute_result"
    },
    {
     "data": {
      "image/png": "[encoded data removed]",
      "text/plain": [
       "<Figure size 432x288 with 1 Axes>"
      ]
     },
     "metadata": {
      "needs_background": "light"
     },
     "output_type": "display_data"
    }
   ],
   "source": [
    "from xgboost import plot_importance\n",
    "plot_importance(models_dict['l_xgb'],importance_type='gain')"
   ]
  },
  {
   "cell_type": "code",
   "execution_count": 107,
   "metadata": {},
   "outputs": [
    {
     "name": "stdout",
     "output_type": "stream",
     "text": [
      "[0]\tvalidation_0-error:0.48646\n",
      "[1]\tvalidation_0-error:0.48180\n",
      "[2]\tvalidation_0-error:0.45916\n",
      "[3]\tvalidation_0-error:0.48579\n",
      "[4]\tvalidation_0-error:0.49839\n",
      "MSE: 0.11034230613825845\n",
      "R2: -0.007620150079339139\n"
     ]
    }
   ],
   "source": [
    "eval_set = [(X_test, y_test)]\n",
    "xgb = XGBRegressor( max_depth=2,n_estimators=5, learning_rate=0.25, subsample=0.2, colsample_bytree=0.8,)\n",
    "# ,n_estimators=100,learning_rate=0.1)\n",
    "xgb.fit(X_train, y_train, eval_metric=\"error\", eval_set=eval_set, verbose=True)\n",
    "# plot training deviance\n",
    "# compute test set MSE\n",
    "y_pred = xgb.predict(X_test)\n",
    "print(f\"MSE: {mean_squared_error(y_test, y_pred)}\")\n",
    "print(f\"R2: {r2_score(y_test, y_pred)}\")"
   ]
  },
  {
   "cell_type": "markdown",
   "metadata": {},
   "source": [
    "## Score 1"
   ]
  },
  {
   "cell_type": "code",
   "execution_count": null,
   "metadata": {},
   "outputs": [],
   "source": [
    "kwrds_model_1 = pd.DataFrame(np.array(s)[0])"
   ]
  },
  {
   "cell_type": "code",
   "execution_count": null,
   "metadata": {},
   "outputs": [],
   "source": [
    "x = pd.DataFrame(df[df['EssaySet'] == 3]['Score1'])/4\n",
    "x.reset_index(drop=True, inplace=True)\n",
    "kwrds_model_1 = pd.concat([kwrds_model_1,x],axis=1)"
   ]
  },
  {
   "cell_type": "code",
   "execution_count": null,
   "metadata": {},
   "outputs": [
    {
     "data": {
      "text/html": [
       "<div>\n",
       "<style scoped>\n",
       "    .dataframe tbody tr th:only-of-type {\n",
       "        vertical-align: middle;\n",
       "    }\n",
       "\n",
       "    .dataframe tbody tr th {\n",
       "        vertical-align: top;\n",
       "    }\n",
       "\n",
       "    .dataframe thead th {\n",
       "        text-align: right;\n",
       "    }\n",
       "</style>\n",
       "<table border=\"1\" class=\"dataframe\">\n",
       "  <thead>\n",
       "    <tr style=\"text-align: right;\">\n",
       "      <th></th>\n",
       "      <th>0</th>\n",
       "      <th>1</th>\n",
       "      <th>2</th>\n",
       "      <th>3</th>\n",
       "      <th>4</th>\n",
       "      <th>5</th>\n",
       "      <th>6</th>\n",
       "      <th>7</th>\n",
       "      <th>8</th>\n",
       "      <th>9</th>\n",
       "      <th>Score1</th>\n",
       "    </tr>\n",
       "  </thead>\n",
       "  <tbody>\n",
       "    <tr>\n",
       "      <th>0</th>\n",
       "      <td>0.837305</td>\n",
       "      <td>0.422338</td>\n",
       "      <td>0.573613</td>\n",
       "      <td>0.320906</td>\n",
       "      <td>0.908609</td>\n",
       "      <td>0.471892</td>\n",
       "      <td>0.210106</td>\n",
       "      <td>0.686953</td>\n",
       "      <td>0.560191</td>\n",
       "      <td>0.693069</td>\n",
       "      <td>0.25</td>\n",
       "    </tr>\n",
       "    <tr>\n",
       "      <th>1</th>\n",
       "      <td>0.857505</td>\n",
       "      <td>0.665791</td>\n",
       "      <td>0.639898</td>\n",
       "      <td>0.354995</td>\n",
       "      <td>0.594003</td>\n",
       "      <td>0.721938</td>\n",
       "      <td>0.413970</td>\n",
       "      <td>0.757992</td>\n",
       "      <td>0.672203</td>\n",
       "      <td>0.724064</td>\n",
       "      <td>0.25</td>\n",
       "    </tr>\n",
       "    <tr>\n",
       "      <th>2</th>\n",
       "      <td>0.826201</td>\n",
       "      <td>0.452897</td>\n",
       "      <td>0.695122</td>\n",
       "      <td>0.382576</td>\n",
       "      <td>0.695319</td>\n",
       "      <td>0.460464</td>\n",
       "      <td>0.404087</td>\n",
       "      <td>0.651537</td>\n",
       "      <td>0.663255</td>\n",
       "      <td>0.855351</td>\n",
       "      <td>0.25</td>\n",
       "    </tr>\n",
       "    <tr>\n",
       "      <th>3</th>\n",
       "      <td>0.892339</td>\n",
       "      <td>0.518353</td>\n",
       "      <td>0.639417</td>\n",
       "      <td>0.261189</td>\n",
       "      <td>0.735989</td>\n",
       "      <td>0.355202</td>\n",
       "      <td>0.320354</td>\n",
       "      <td>0.583015</td>\n",
       "      <td>0.751305</td>\n",
       "      <td>0.772607</td>\n",
       "      <td>0.50</td>\n",
       "    </tr>\n",
       "    <tr>\n",
       "      <th>4</th>\n",
       "      <td>0.970666</td>\n",
       "      <td>0.539734</td>\n",
       "      <td>0.745090</td>\n",
       "      <td>0.382576</td>\n",
       "      <td>0.772379</td>\n",
       "      <td>0.585845</td>\n",
       "      <td>0.404087</td>\n",
       "      <td>0.708652</td>\n",
       "      <td>0.186656</td>\n",
       "      <td>0.931490</td>\n",
       "      <td>0.00</td>\n",
       "    </tr>\n",
       "  </tbody>\n",
       "</table>\n",
       "</div>"
      ],
      "text/plain": [
       "          0         1         2         3         4         5         6  \\\n",
       "0  0.837305  0.422338  0.573613  0.320906  0.908609  0.471892  0.210106   \n",
       "1  0.857505  0.665791  0.639898  0.354995  0.594003  0.721938  0.413970   \n",
       "2  0.826201  0.452897  0.695122  0.382576  0.695319  0.460464  0.404087   \n",
       "3  0.892339  0.518353  0.639417  0.261189  0.735989  0.355202  0.320354   \n",
       "4  0.970666  0.539734  0.745090  0.382576  0.772379  0.585845  0.404087   \n",
       "\n",
       "          7         8         9  Score1  \n",
       "0  0.686953  0.560191  0.693069    0.25  \n",
       "1  0.757992  0.672203  0.724064    0.25  \n",
       "2  0.651537  0.663255  0.855351    0.25  \n",
       "3  0.583015  0.751305  0.772607    0.50  \n",
       "4  0.708652  0.186656  0.931490    0.00  "
      ]
     },
     "metadata": {},
     "output_type": "display_data"
    }
   ],
   "source": [
    "kwrds_model_1.head()"
   ]
  },
  {
   "cell_type": "code",
   "execution_count": 71,
   "metadata": {},
   "outputs": [],
   "source": [
    "# train the model\n",
    "X = kwrds_model_1.drop(['Score1'],axis=1)\n",
    "y = kwrds_model_1['Score1']\n",
    "X_train, X_test, y_train, y_test = train_test_split(X, y, test_size=0.2, random_state=42)"
   ]
  },
  {
   "cell_type": "code",
   "execution_count": 72,
   "metadata": {},
   "outputs": [],
   "source": [
    "models_dict = {\n",
    "    'l_rg': LinearRegression(),\n",
    "    'l_svr': SVR(),\n",
    "    'l_dt': DecisionTreeRegressor(),\n",
    "    'l_rf': RandomForestRegressor(),\n",
    "    'l_gb': GradientBoostingRegressor(),\n",
    "    'l_xgb': XGBRegressor(),\n",
    "    'l_lgb': LGBMRegressor(),\n",
    "    'l_cat': CatBoostRegressor(),\n",
    "    'l_mlp': MLPRegressor(),\n",
    "    'l_gpr': GaussianProcessRegressor(),\n",
    "}\n",
    "for model_name, mod in models_dict.items():\n",
    "    mod.fit(X_train, y_train)\n",
    "clear_output()"
   ]
  },
  {
   "cell_type": "code",
   "execution_count": 74,
   "metadata": {},
   "outputs": [
    {
     "name": "stdout",
     "output_type": "stream",
     "text": [
      "l_rg MSE: 0.02917206850394008\n",
      "l_rg R2: 0.02440439056501109\n",
      "l_svr MSE: 0.033348898260327955\n",
      "l_svr R2: -0.11528048543680725\n",
      "l_dt MSE: 0.052770448548812667\n",
      "l_dt R2: -0.7647914787113295\n",
      "l_rf MSE: 0.03057205528070947\n",
      "l_rf R2: -0.022415085143363322\n",
      "l_gb MSE: 0.03115390082480726\n",
      "l_gb R2: -0.04187362844530451\n",
      "l_xgb MSE: 0.03500002462505689\n",
      "l_xgb R2: -0.1704987717861055\n",
      "l_lgb MSE: 0.033972884512622856\n",
      "l_lgb R2: -0.1361483319525414\n",
      "l_cat MSE: 0.032574372105046524\n",
      "l_cat R2: -0.08937816327603687\n",
      "l_mlp MSE: 0.028978642055287943\n",
      "l_mlp R2: 0.030873112316029183\n",
      "l_gpr MSE: 19.0802420470046\n",
      "l_gpr R2: -637.0966905209482\n"
     ]
    }
   ],
   "source": [
    "for mod_name, mod in models_dict.items():\n",
    "    print(f\"{mod_name} MSE:\", mean_squared_error(y_test, mod.predict(X_test)))\n",
    "    print(f\"{mod_name} R2:\", r2_score(y_test, mod.predict(X_test)))"
   ]
  },
  {
   "cell_type": "markdown",
   "metadata": {},
   "source": [
    "# sims"
   ]
  },
  {
   "cell_type": "code",
   "execution_count": 108,
   "metadata": {},
   "outputs": [
    {
     "data": {
      "text/plain": [
       "(1891, 384)"
      ]
     },
     "execution_count": 108,
     "metadata": {},
     "output_type": "execute_result"
    }
   ],
   "source": [
    "docs_emb.shape"
   ]
  },
  {
   "cell_type": "code",
   "execution_count": 137,
   "metadata": {},
   "outputs": [],
   "source": [
    "docs_1_emb = model.encode(df[df['EssaySet'] == 1][\"EssayText\"].values.tolist())"
   ]
  },
  {
   "cell_type": "code",
   "execution_count": 138,
   "metadata": {},
   "outputs": [],
   "source": [
    "# load essay set 1 model answers\n",
    "essay_set_1_answers = load_obj(f'data/essaySet_1_model_answers')\n",
    "set_1_answers_emb = model.encode(essay_set_1_answers)\n",
    "doc1_sims = cos_sim(set_1_answers_emb, np.array(docs_1_emb)).__array__().max(axis=0)"
   ]
  },
  {
   "cell_type": "code",
   "execution_count": 146,
   "metadata": {},
   "outputs": [
    {
     "data": {
      "text/plain": [
       "(1672, 2)"
      ]
     },
     "execution_count": 146,
     "metadata": {},
     "output_type": "execute_result"
    }
   ],
   "source": [
    "doc1_df = pd.concat([pd.DataFrame(doc1_sims), pd.DataFrame(df[df['EssaySet'] == 1]['score_gn_1'])],axis=1)\n",
    "doc1_df.shape"
   ]
  },
  {
   "cell_type": "code",
   "execution_count": 147,
   "metadata": {},
   "outputs": [],
   "source": [
    "# train the model\n",
    "X = doc1_df.drop(['score_gn_1'],axis=1)\n",
    "y = doc1_df['score_gn_1']\n",
    "X_train, X_test, y_train, y_test = train_test_split(X, y, test_size=0.2, random_state=42)\n",
    "models_dict = {\n",
    "    'l_rg': LinearRegression(),\n",
    "    'l_svr': SVR(),\n",
    "    'l_dt': DecisionTreeRegressor(),\n",
    "    'l_rf': RandomForestRegressor(),\n",
    "    'l_gb': GradientBoostingRegressor(),\n",
    "    'l_xgb': XGBRegressor(),\n",
    "    'l_lgb': LGBMRegressor(),\n",
    "    'l_cat': CatBoostRegressor(),\n",
    "    'l_mlp': MLPRegressor(),\n",
    "    'l_gpr': GaussianProcessRegressor(),\n",
    "}\n",
    "for model_name, mod in models_dict.items():\n",
    "    mod.fit(X_train, y_train)\n",
    "clear_output()"
   ]
  },
  {
   "cell_type": "code",
   "execution_count": 148,
   "metadata": {},
   "outputs": [
    {
     "name": "stdout",
     "output_type": "stream",
     "text": [
      "l_rg MSE: 0.08269732247034495\n",
      "l_rg R2: 0.2992851000775968\n",
      "l_svr MSE: 0.08119784014044083\n",
      "l_svr R2: 0.3119905853260575\n",
      "l_dt MSE: 0.14593616000272852\n",
      "l_dt R2: -0.2365532365094627\n",
      "l_rf MSE: 0.10928567428355719\n",
      "l_rf R2: 0.07399540842430719\n",
      "l_gb MSE: 0.08120066102927147\n",
      "l_gb R2: 0.31196668323617593\n",
      "l_xgb MSE: 0.0989357285936552\n",
      "l_xgb R2: 0.1616930622498306\n",
      "l_lgb MSE: 0.08408942196929682\n",
      "l_lgb R2: 0.2874894961577735\n",
      "l_cat MSE: 0.08703721466508069\n",
      "l_cat R2: 0.26251211838887545\n",
      "l_mlp MSE: 0.08240117399827362\n",
      "l_mlp R2: 0.30179443944640205\n",
      "l_gpr MSE: 0.079830757887237\n",
      "l_gpr R2: 0.32357421192512825\n"
     ]
    }
   ],
   "source": [
    "for mod_name, mod in models_dict.items():\n",
    "    print(f\"{mod_name} MSE:\", mean_squared_error(y_test, mod.predict(X_test)))\n",
    "    print(f\"{mod_name} R2:\", r2_score(y_test, mod.predict(X_test)))"
   ]
  },
  {
   "cell_type": "code",
   "execution_count": 149,
   "metadata": {},
   "outputs": [
    {
     "name": "stdout",
     "output_type": "stream",
     "text": [
      "l_rg MSE: 0.0797895457762088\n",
      "l_rg R2: 0.31442788589102943\n",
      "l_svr MSE: 0.07766760638632851\n",
      "l_svr R2: 0.3326601299698658\n",
      "l_dt MSE: 0.0001862585804170598\n",
      "l_dt R2: 0.9983996188033755\n",
      "l_rf MSE: 0.01644666047999878\n",
      "l_rf R2: 0.8586861012227087\n",
      "l_gb MSE: 0.06364711225071931\n",
      "l_gb R2: 0.4531277891336568\n",
      "l_xgb MSE: 0.025973412549452325\n",
      "l_xgb R2: 0.7768298192585779\n",
      "l_lgb MSE: 0.06629646140915622\n",
      "l_lgb R2: 0.4303639058969134\n",
      "l_cat MSE: 0.06398253726462903\n",
      "l_cat R2: 0.4502457319208474\n",
      "l_mlp MSE: 0.08015976909137576\n",
      "l_mlp R2: 0.3112468328044091\n",
      "l_gpr MSE: 0.07634098214760159\n",
      "l_gpr R2: 0.34405882355966466\n"
     ]
    }
   ],
   "source": [
    "for mod_name, mod in models_dict.items():\n",
    "    print(f\"{mod_name} MSE:\", mean_squared_error(y_train, mod.predict(X_train)))\n",
    "    print(f\"{mod_name} R2:\", r2_score(y_train, mod.predict(X_train)))"
   ]
  },
  {
   "cell_type": "code",
   "execution_count": 159,
   "metadata": {},
   "outputs": [
    {
     "name": "stdout",
     "output_type": "stream",
     "text": [
      "[0]\tvalidation_0-error:0.34055\n",
      "[1]\tvalidation_0-error:0.34055\n",
      "[2]\tvalidation_0-error:0.34055\n",
      "[3]\tvalidation_0-error:0.34500\n",
      "[4]\tvalidation_0-error:0.34796\n",
      "MSE: 0.08158296617639564\n",
      "R2: 0.3087273170160302\n"
     ]
    }
   ],
   "source": [
    "eval_set = [(X_test, y_test)]\n",
    "xgb_1 = XGBRegressor( max_depth=2,n_estimators=5, learning_rate=0.4, subsample=0.2, colsample_bytree=0.8,)\n",
    "# ,n_estimators=100,learning_rate=0.1)\n",
    "xgb_1.fit(X_train, y_train, eval_metric=\"error\", eval_set=eval_set, verbose=True)\n",
    "y_pred = xgb_1.predict(X_test)\n",
    "print(f\"MSE: {mean_squared_error(y_test, y_pred)}\")\n",
    "print(f\"R2: {r2_score(y_test, y_pred)}\")"
   ]
  },
  {
   "cell_type": "markdown",
   "metadata": {},
   "source": [
    "# keys"
   ]
  },
  {
   "cell_type": "code",
   "execution_count": 6,
   "metadata": {},
   "outputs": [],
   "source": [
    "words_emb_dict = {}\n",
    "def get_word_emb(word):\n",
    "    if word in words_emb_dict:\n",
    "        return words_emb_dict[word]\n",
    "    else:\n",
    "        words_emb_dict[word] = model.encode(word)\n",
    "        return words_emb_dict[word]\n",
    "\n",
    "def get_words_emb(words):\n",
    "    return list(map(get_words_emb, words))\n",
    "model_answers_dict = {\n",
    "    1: load_obj(f'data/essaySet_{1}_model_answers'),\n",
    "    2: load_obj(f'data/essaySet_{2}_model_answers'),\n",
    "    3: load_obj(f'data/essaySet_{3}_model_answers'),\n",
    "    4: load_obj(f'data/essaySet_{4}_model_answers'),\n",
    "    5: load_obj(f'data/essaySet_{5}_model_answers'),\n",
    "    6: load_obj(f'data/essaySet_{6}_model_answers'),\n",
    "    7: load_obj(f'data/essaySet_{7}_model_answers'),\n",
    "    8: load_obj(f'data/essaySet_{8}_model_answers'),\n",
    "    9: load_obj(f'data/essaySet_{9}_model_answers'),\n",
    "    10: load_obj(f'data/essaySet_{10}_model_answers'),\n",
    "}"
   ]
  },
  {
   "cell_type": "code",
   "execution_count": 10,
   "metadata": {},
   "outputs": [],
   "source": [
    "docs = df.query(f'EssaySet == {1}')[\"EssayText\"].values.tolist()[:10]"
   ]
  },
  {
   "cell_type": "code",
   "execution_count": 11,
   "metadata": {},
   "outputs": [],
   "source": [
    "def train():\n",
    "    times = {}\n",
    "    for essay in range(1,2):\n",
    "        t = []\n",
    "        clear_output()\n",
    "        print(f\"EssaySet: {essay} ...\")\n",
    "        t1 = time.perf_counter()\n",
    "        model_answers = model_answers_dict[essay]\n",
    "        # docs = df.query(f'EssaySet == {essay}')[\"EssayText\"].values.tolist()[:10]\n",
    "        t.append(time.perf_counter() - t1)\n",
    "\n",
    "        print(f\"docs cands ...\")\n",
    "        t1 = time.perf_counter()\n",
    "        docs_candidates = list(map(lambda ans: key_words.candidates_tokens(ans,n_gram_range=(2,3)),docs))\n",
    "        print(f\"docs cands emb...\")\n",
    "        docs_candidate_emb = list(map(lambda cand: get_words_emb(cand),docs_candidates))\n",
    "        t.append(time.perf_counter() - t1)\n",
    "\n",
    "        print(f\"Encoding ... docs\")\n",
    "        t1 = time.perf_counter()\n",
    "        docs_emb = model.encode(docs)\n",
    "        t.append(time.perf_counter() - t1)\n",
    "\n",
    "        print(f\"docs keywords ...\")\n",
    "        t1 = time.perf_counter()\n",
    "        docs_keywords = list(map(lambda x: maximal_marginal_relevance(\n",
    "            x[0].reshape(1, -1),x[1],x[2],top_n=10 ,diversity=0.8),\n",
    "            zip(docs_emb,docs_candidate_emb,docs_candidates)))\n",
    "        t.append(time.perf_counter() - t1)\n",
    "\n",
    "        print(f\"docs keywords emb ...\")\n",
    "        t1 = time.perf_counter()\n",
    "        docs_keywords_emb = list(map(lambda x: get_words_emb(x),docs_keywords))\n",
    "        t.append(time.perf_counter() - t1)\n",
    "\n",
    "        print(f\"model keywords ...\")\n",
    "        t1 = time.perf_counter()\n",
    "        model_candidates = list(map(lambda ans: key_words.candidates_tokens(ans,n_gram_range=(2,3)),model_answers))\n",
    "        model_candidate_emb = list(map(lambda cand: get_words_emb(cand),model_candidates))\n",
    "        keywords = list(map(lambda x: maximal_marginal_relevance(\n",
    "            x[0].reshape(1, -1),x[1],x[2],top_n=10,diversity=0.8),\n",
    "            zip(model.encode(model_answers),\n",
    "            model_candidate_emb,model_candidates)))\n",
    "        t.append(time.perf_counter() - t1)\n",
    "\n",
    "        print(f\"model keywords emb ...\")\n",
    "        t1 = time.perf_counter()\n",
    "        keywords_emb = list(map(lambda x: get_words_emb(x),keywords))\n",
    "        t.append(time.perf_counter() - t1)\n",
    "\n",
    "        s = list(map(lambda model_emb: \n",
    "            list(map(lambda doc_emb: cos_sim(model_emb,doc_emb).__array__().max(axis=1), docs_keywords_emb)),keywords_emb))\n",
    "        \n",
    "        # save the results\n",
    "        np.save(f'data/results/essaySet_{essay}_keywords_scores',np.array(s))\n",
    "        times[essay] = t\n",
    "    return times"
   ]
  },
  {
   "cell_type": "code",
   "execution_count": null,
   "metadata": {},
   "outputs": [],
   "source": []
  },
  {
   "cell_type": "markdown",
   "metadata": {},
   "source": [
    "# all"
   ]
  },
  {
   "cell_type": "code",
   "execution_count": 27,
   "metadata": {},
   "outputs": [],
   "source": [
    "# train_path = \"data/train_phase1.tsv\"\n",
    "# df = pd.read_csv(train_path, sep=\"\\t\")\n",
    "# keywords_threshold = 0.53\n",
    "# kwrds_path = 'data/results/keys_score_0.53_essay'\n",
    "# kwrds_res = load_obj(kwrds_path)\n",
    "# siamese_scores = load_obj(\"data/results/final_siamese_scores\")\n",
    "ner_scores = load_obj(\"data/results/ner_res\")\n",
    "special_keywords_res = load_obj(\"data/results/special_keywords_res\")"
   ]
  },
  {
   "cell_type": "code",
   "execution_count": 7,
   "metadata": {},
   "outputs": [
    {
     "data": {
      "text/html": [
       "<div>\n",
       "<style scoped>\n",
       "    .dataframe tbody tr th:only-of-type {\n",
       "        vertical-align: middle;\n",
       "    }\n",
       "\n",
       "    .dataframe tbody tr th {\n",
       "        vertical-align: top;\n",
       "    }\n",
       "\n",
       "    .dataframe thead th {\n",
       "        text-align: right;\n",
       "    }\n",
       "</style>\n",
       "<table border=\"1\" class=\"dataframe\">\n",
       "  <thead>\n",
       "    <tr style=\"text-align: right;\">\n",
       "      <th></th>\n",
       "      <th>Unnamed: 0</th>\n",
       "      <th>Id</th>\n",
       "      <th>EssaySet</th>\n",
       "      <th>Score1</th>\n",
       "      <th>Score2</th>\n",
       "      <th>EssayText</th>\n",
       "      <th>score</th>\n",
       "      <th>score_gn</th>\n",
       "      <th>score_gn_1</th>\n",
       "    </tr>\n",
       "  </thead>\n",
       "  <tbody>\n",
       "    <tr>\n",
       "      <th>0</th>\n",
       "      <td>0</td>\n",
       "      <td>1</td>\n",
       "      <td>1</td>\n",
       "      <td>1</td>\n",
       "      <td>1</td>\n",
       "      <td>Some additional information that we would need...</td>\n",
       "      <td>0.333333</td>\n",
       "      <td>0.343907</td>\n",
       "      <td>0.331842</td>\n",
       "    </tr>\n",
       "    <tr>\n",
       "      <th>1</th>\n",
       "      <td>1</td>\n",
       "      <td>2</td>\n",
       "      <td>1</td>\n",
       "      <td>1</td>\n",
       "      <td>1</td>\n",
       "      <td>After reading the expirement, I realized that ...</td>\n",
       "      <td>0.333333</td>\n",
       "      <td>0.340896</td>\n",
       "      <td>0.365264</td>\n",
       "    </tr>\n",
       "    <tr>\n",
       "      <th>2</th>\n",
       "      <td>2</td>\n",
       "      <td>3</td>\n",
       "      <td>1</td>\n",
       "      <td>1</td>\n",
       "      <td>1</td>\n",
       "      <td>What you need is more trials, a control set up...</td>\n",
       "      <td>0.333333</td>\n",
       "      <td>0.351329</td>\n",
       "      <td>0.354158</td>\n",
       "    </tr>\n",
       "    <tr>\n",
       "      <th>3</th>\n",
       "      <td>3</td>\n",
       "      <td>4</td>\n",
       "      <td>1</td>\n",
       "      <td>0</td>\n",
       "      <td>0</td>\n",
       "      <td>The student should list what rock is better an...</td>\n",
       "      <td>0.000000</td>\n",
       "      <td>0.000000</td>\n",
       "      <td>0.089832</td>\n",
       "    </tr>\n",
       "    <tr>\n",
       "      <th>4</th>\n",
       "      <td>4</td>\n",
       "      <td>5</td>\n",
       "      <td>1</td>\n",
       "      <td>2</td>\n",
       "      <td>2</td>\n",
       "      <td>For the students to be able to make a replicat...</td>\n",
       "      <td>0.666667</td>\n",
       "      <td>0.656207</td>\n",
       "      <td>0.710926</td>\n",
       "    </tr>\n",
       "  </tbody>\n",
       "</table>\n",
       "</div>"
      ],
      "text/plain": [
       "   Unnamed: 0  Id  EssaySet  Score1  Score2  \\\n",
       "0           0   1         1       1       1   \n",
       "1           1   2         1       1       1   \n",
       "2           2   3         1       1       1   \n",
       "3           3   4         1       0       0   \n",
       "4           4   5         1       2       2   \n",
       "\n",
       "                                           EssayText     score  score_gn  \\\n",
       "0  Some additional information that we would need...  0.333333  0.343907   \n",
       "1  After reading the expirement, I realized that ...  0.333333  0.340896   \n",
       "2  What you need is more trials, a control set up...  0.333333  0.351329   \n",
       "3  The student should list what rock is better an...  0.000000  0.000000   \n",
       "4  For the students to be able to make a replicat...  0.666667  0.656207   \n",
       "\n",
       "   score_gn_1  \n",
       "0    0.331842  \n",
       "1    0.365264  \n",
       "2    0.354158  \n",
       "3    0.089832  \n",
       "4    0.710926  "
      ]
     },
     "execution_count": 7,
     "metadata": {},
     "output_type": "execute_result"
    }
   ],
   "source": [
    "df.head()"
   ]
  },
  {
   "cell_type": "code",
   "execution_count": 14,
   "metadata": {},
   "outputs": [],
   "source": [
    "docs = df[df[\"EssaySet\"]==2][\"EssayText\"].values.tolist()\n",
    "docs1 = df[df[\"EssaySet\"]==3][\"EssayText\"].values.tolist()\n",
    "docs_emb = model.encode(docs)\n",
    "docs1_emb = model.encode(docs1)"
   ]
  },
  {
   "cell_type": "code",
   "execution_count": 17,
   "metadata": {},
   "outputs": [],
   "source": [
    "# model_answers\n",
    "ess2 = model.encode(load_obj(f'data/essaySet_{2}_model_answers'))\n",
    "ess3 = model.encode(load_obj(f'data/essaySet_{3}_model_answers'))"
   ]
  },
  {
   "cell_type": "code",
   "execution_count": 18,
   "metadata": {},
   "outputs": [],
   "source": [
    "siamese_scores = []\n",
    "\n",
    "siamese_scores.append(cos_sim(docs_emb,ess2).__array__().max(axis=1))\n",
    "siamese_scores.append(cos_sim(docs1_emb,ess3).__array__().max(axis=1))"
   ]
  },
  {
   "cell_type": "code",
   "execution_count": 19,
   "metadata": {},
   "outputs": [],
   "source": [
    "ner_scores = load_obj(\"data/results/ner_res\")\n",
    "special_keywords_res = load_obj(\"data/results/special_keywords_res\")"
   ]
  },
  {
   "cell_type": "code",
   "execution_count": 34,
   "metadata": {},
   "outputs": [],
   "source": [
    "score = df[df[\"EssaySet\"]==2][\"score_gn_1\"].values.tolist()\n",
    "score1 = df[df[\"EssaySet\"]==3][\"score_gn_1\"].values.tolist()"
   ]
  },
  {
   "cell_type": "code",
   "execution_count": 37,
   "metadata": {},
   "outputs": [],
   "source": [
    "n_df = pd.concat([pd.DataFrame(np.concatenate([siamese_scores[0],siamese_scores[1]])),\n",
    "pd.DataFrame(np.concatenate([ner_scores[1],ner_scores[2]])),\n",
    "pd.DataFrame(np.concatenate([special_keywords_res[\"ess_2_model_answers\"],special_keywords_res[\"ess_3_model_answers\"]])),\n",
    "pd.DataFrame(np.array(score+score1))],axis=1)\n",
    "n_df.columns = ['siamese_score', 'ner_score', 'special_keywords_score','label']"
   ]
  },
  {
   "cell_type": "code",
   "execution_count": 38,
   "metadata": {},
   "outputs": [
    {
     "name": "stdout",
     "output_type": "stream",
     "text": [
      "MSE: 0.10886717258549733\n",
      "R2: 0.0351778337275136\n"
     ]
    }
   ],
   "source": [
    "# train a regression model\n",
    "from sklearn.linear_model import LinearRegression\n",
    "from sklearn.model_selection import train_test_split\n",
    "from sklearn.metrics import mean_squared_error\n",
    "from sklearn.metrics import r2_score\n",
    "\n",
    "# train the model\n",
    "X = n_df[['siamese_score', 'ner_score', 'special_keywords_score']]\n",
    "y = n_df['label']\n",
    "X_train, X_test, y_train, y_test = train_test_split(X, y, test_size=0.2, random_state=42)\n",
    "\n",
    "model = LinearRegression()\n",
    "model.fit(X_train, y_train)\n",
    "print(\"MSE:\", mean_squared_error(y_test, model.predict(X_test)))\n",
    "print(\"R2:\", r2_score(y_test, model.predict(X_test)))"
   ]
  },
  {
   "cell_type": "code",
   "execution_count": 40,
   "metadata": {},
   "outputs": [
    {
     "name": "stdout",
     "output_type": "stream",
     "text": [
      "MSE: 0.10887742554349467\n",
      "R2: 0.035086968125782936\n"
     ]
    }
   ],
   "source": [
    "# rg with regularization\n",
    "from sklearn.linear_model import Ridge\n",
    "model = Ridge(alpha=0.1)\n",
    "model.fit(X_train, y_train)\n",
    "print(\"MSE:\", mean_squared_error(y_test, model.predict(X_test)))\n",
    "print(\"R2:\", r2_score(y_test, model.predict(X_test)))"
   ]
  },
  {
   "cell_type": "code",
   "execution_count": 42,
   "metadata": {},
   "outputs": [],
   "source": [
    "from scipy.stats import loguniform\n",
    "from pandas import read_csv\n",
    "from sklearn.linear_model import Ridge\n",
    "from sklearn.model_selection import RepeatedKFold\n",
    "from sklearn.model_selection import RandomizedSearchCV"
   ]
  },
  {
   "cell_type": "code",
   "execution_count": 49,
   "metadata": {},
   "outputs": [
    {
     "name": "stdout",
     "output_type": "stream",
     "text": [
      "Best Score: -0.2612098601910762\n",
      "Best Hyperparameters: {'alpha': 1.6159531754886576, 'fit_intercept': True, 'normalize': True, 'solver': 'sag'}\n"
     ]
    }
   ],
   "source": [
    "# define model\n",
    "model = Ridge()\n",
    "# define evaluation\n",
    "cv = RepeatedKFold(n_splits=10, n_repeats=3, random_state=1)\n",
    "# define search space\n",
    "space = dict()\n",
    "space['solver'] = ['svd', 'cholesky', 'lsqr', 'sag']\n",
    "space['alpha'] = loguniform(1e-5, 100)\n",
    "space['fit_intercept'] = [True, False]\n",
    "space['normalize'] = [True, False]\n",
    "# define search\n",
    "search = RandomizedSearchCV(model, space, n_iter=500, scoring='neg_mean_absolute_error', n_jobs=-1, cv=cv, random_state=1)\n",
    "# execute search\n",
    "result = search.fit(X, y)\n",
    "# summarize result\n",
    "print('Best Score: %s' % result.best_score_)\n",
    "print('Best Hyperparameters: %s' % result.best_params_)"
   ]
  },
  {
   "cell_type": "code",
   "execution_count": 50,
   "metadata": {},
   "outputs": [
    {
     "name": "stdout",
     "output_type": "stream",
     "text": [
      "MSE: 0.11045588508102697\n",
      "R2: 0.021098061146690106\n"
     ]
    }
   ],
   "source": [
    "model = Ridge(**{'alpha': 1.62, 'fit_intercept': True, 'normalize': True, 'solver': 'sag'})\n",
    "model.fit(X_train, y_train)\n",
    "print(\"MSE:\", mean_squared_error(y_test, model.predict(X_test)))\n",
    "print(\"R2:\", r2_score(y_test, model.predict(X_test)))"
   ]
  },
  {
   "cell_type": "code",
   "execution_count": 52,
   "metadata": {},
   "outputs": [],
   "source": [
    "# save the model\n",
    "save_obj(model, 'data/results/model_rg.pkl')"
   ]
  },
  {
   "cell_type": "code",
   "execution_count": null,
   "metadata": {},
   "outputs": [],
   "source": []
  }
 ],
 "metadata": {
  "kernelspec": {
   "display_name": "Python 3.9.2 64-bit",
   "language": "python",
   "name": "python3"
  },
  "language_info": {
   "codemirror_mode": {
    "name": "ipython",
    "version": 3
   },
   "file_extension": ".py",
   "mimetype": "text/x-python",
   "name": "python",
   "nbconvert_exporter": "python",
   "pygments_lexer": "ipython3",
   "version": "3.9.2"
  },
  "orig_nbformat": 4,
  "vscode": {
   "interpreter": {
    "hash": "0f876b07db73824ba94c3da26a300833b9286c0dd0d4e31723ae4574ddd9b9bb"
   }
  }
 },
 "nbformat": 4,
 "nbformat_minor": 2
}
