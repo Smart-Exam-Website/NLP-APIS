{
 "cells": [
  {
   "cell_type": "code",
   "execution_count": 1,
   "metadata": {},
   "outputs": [],
   "source": [
    "import time\n",
    "import os\n",
    "import numpy as np\n",
    "from sentence_transformers.util import cos_sim"
   ]
  },
  {
   "cell_type": "code",
   "execution_count": 2,
   "metadata": {},
   "outputs": [],
   "source": [
    "import pickle\n",
    "def save_obj(obj:object,name:str):\n",
    "    ext = '.pickle'\n",
    "    with open(name + ext, 'wb') as handle:\n",
    "        pickle.dump(obj, handle, protocol=pickle.HIGHEST_PROTOCOL)\n",
    "\n",
    "def load_obj(name:str)->object:\n",
    "    ext = '.pickle'\n",
    "    with open(name + ext, 'rb') as handle:\n",
    "        return pickle.load(handle)"
   ]
  },
  {
   "cell_type": "code",
   "execution_count": 3,
   "metadata": {},
   "outputs": [],
   "source": [
    "df_emb = load_obj(\"data/ess_emb\")\n",
    "emb_dict = load_obj(\"data/model_answer_emb\")"
   ]
  },
  {
   "cell_type": "code",
   "execution_count": 4,
   "metadata": {},
   "outputs": [
    {
     "name": "stdout",
     "output_type": "stream",
     "text": [
      "(1672,)\n",
      "(1278,)\n",
      "(1891,)\n",
      "(1738,)\n",
      "(1795,)\n",
      "(1797,)\n",
      "(1799,)\n",
      "(1799,)\n",
      "(1798,)\n",
      "(1640,)\n"
     ]
    }
   ],
   "source": [
    "siamese_scores, final_siamese_scores = [], []\n",
    "\n",
    "for i in range(10):\n",
    "    siamese_scores.append(cos_sim(df_emb['essay_'+str(i+1)], emb_dict[f'ess_{i+1}_model_answers_emb']).__array__())\n",
    "    # we will take the max of the siamese scores for each essay\n",
    "    final_siamese_scores.append(siamese_scores[i].max(axis=1))\n",
    "    print(final_siamese_scores[i].shape)\n"
   ]
  },
  {
   "cell_type": "code",
   "execution_count": 5,
   "metadata": {},
   "outputs": [],
   "source": [
    "# make a directory to save the results and save\n",
    "os.makedirs('data/results', exist_ok=True)\n",
    "\n",
    "save_obj(final_siamese_scores,'data/results/final_siamese_scores')\n",
    "save_obj(siamese_scores,'data/results/siamese_scores')"
   ]
  }
 ],
 "metadata": {
  "kernelspec": {
   "display_name": "Python 3.9.2 64-bit",
   "language": "python",
   "name": "python3"
  },
  "language_info": {
   "codemirror_mode": {
    "name": "ipython",
    "version": 3
   },
   "file_extension": ".py",
   "mimetype": "text/x-python",
   "name": "python",
   "nbconvert_exporter": "python",
   "pygments_lexer": "ipython3",
   "version": "3.9.2"
  },
  "orig_nbformat": 4,
  "vscode": {
   "interpreter": {
    "hash": "0f876b07db73824ba94c3da26a300833b9286c0dd0d4e31723ae4574ddd9b9bb"
   }
  }
 },
 "nbformat": 4,
 "nbformat_minor": 2
}
