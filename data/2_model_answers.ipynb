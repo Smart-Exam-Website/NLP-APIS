{
 "cells": [
  {
   "cell_type": "code",
   "execution_count": 1,
   "metadata": {},
   "outputs": [],
   "source": [
    "import os\n",
    "import random\n",
    "import pickle\n",
    "import itertools\n",
    "import numpy as np\n",
    "import pandas as pd\n",
    "import plotly.express as px\n",
    "import matplotlib.pyplot as plt"
   ]
  },
  {
   "cell_type": "code",
   "execution_count": 2,
   "metadata": {},
   "outputs": [],
   "source": [
    "train_path = \"train.tsv\"\n",
    "df = pd.read_csv(train_path, sep=\"\\t\")"
   ]
  },
  {
   "cell_type": "code",
   "execution_count": 2,
   "metadata": {},
   "outputs": [],
   "source": [
    "def save_obj(obj:object,name:str):\n",
    "    ext = '.pickle'\n",
    "    with open(name + ext, 'wb') as handle:\n",
    "        pickle.dump(obj, handle, protocol=pickle.HIGHEST_PROTOCOL)\n",
    "\n",
    "def load_obj(name:str)->object:\n",
    "    ext = '.pickle'\n",
    "    with open(name + ext, 'rb') as handle:\n",
    "        return pickle.load(handle)\n"
   ]
  },
  {
   "cell_type": "code",
   "execution_count": 4,
   "metadata": {},
   "outputs": [],
   "source": [
    "def combine_lists(list1:list[str], list2:list[str])->list[str]:\n",
    "    \"\"\"\n",
    "    Combines two lists into one.\n",
    "\n",
    "    Args:\n",
    "        list1: list of strings\n",
    "        list2: list of strings\n",
    "\n",
    "    Returns:\n",
    "        list of strings\n",
    "    \"\"\"\n",
    "    temp = list(map(\n",
    "            lambda a: list(map(lambda b: \"a) \"+str(a)+\" b) \"+str(b) ,list1))\n",
    "            , list2))\n",
    "    # flatten\n",
    "    return list(itertools.chain.from_iterable(temp))"
   ]
  },
  {
   "cell_type": "markdown",
   "metadata": {},
   "source": [
    "# essay set 1"
   ]
  },
  {
   "cell_type": "code",
   "execution_count": 5,
   "metadata": {},
   "outputs": [],
   "source": [
    "essaySet_1_model_answers = ['You need to know how much vinegar was used in each container.',\n",
    " 'You need to know what type of vinegar was used in each container.',\n",
    " ' You need to know what materials to test.',\n",
    " 'You need to know what size/surface area of materials should be used.',\n",
    " 'You need to know how long each sample was rinsed in distilled water.',\n",
    " 'You need to know what drying method to use.',\n",
    " 'You need to know what size/type of container to use.',] "
   ]
  },
  {
   "cell_type": "code",
   "execution_count": 6,
   "metadata": {},
   "outputs": [
    {
     "data": {
      "text/plain": [
       "'Some additional information I would need in order to replicate this experiment would be the amount of vinegar poured into each seperate containers. If I did not have the data table, I would also need to be told in the procedure what the four different samples are. It would also be helpful to know what type of containers were used. In order to replicate on experiement, the procedure must be precise and not have any information out, or else the data may come out completely different and not be comperable to the first set of data.'"
      ]
     },
     "execution_count": 6,
     "metadata": {},
     "output_type": "execute_result"
    }
   ],
   "source": [
    "# random sample 2 answers from essay set 1\n",
    "essaySet_1_answers = df.query(\"EssaySet == 1 and Score1 == Score2 and Score1 == 3\")[\"EssayText\"]\n",
    "essaySet_1_answers = essaySet_1_answers.sample(22-7)\n",
    "essaySet_1_answers = essaySet_1_answers.values.tolist()\n",
    "essaySet_1_answers[0]"
   ]
  },
  {
   "cell_type": "code",
   "execution_count": 7,
   "metadata": {},
   "outputs": [],
   "source": [
    "# essaySet_1_answers = list(itertools.chain.from_iterable(essaySet_1_answers))\n",
    "essaySet_1_model_answers += essaySet_1_answers\n",
    "# save\n",
    "save_obj(essaySet_1_model_answers, \"essaySet_1_model_answers\")"
   ]
  },
  {
   "cell_type": "code",
   "execution_count": 8,
   "metadata": {},
   "outputs": [
    {
     "data": {
      "text/plain": [
       "(22, 15)"
      ]
     },
     "execution_count": 8,
     "metadata": {},
     "output_type": "execute_result"
    }
   ],
   "source": [
    "len(essaySet_1_model_answers), len(essaySet_1_answers)"
   ]
  },
  {
   "cell_type": "markdown",
   "metadata": {},
   "source": [
    "# essay set 2"
   ]
  },
  {
   "cell_type": "code",
   "execution_count": 9,
   "metadata": {},
   "outputs": [
    {
     "data": {
      "text/plain": [
       "20"
      ]
     },
     "execution_count": 9,
     "metadata": {},
     "output_type": "execute_result"
    }
   ],
   "source": [
    "essaySet_2_model_answers_part_a = [\"Plastic sample B has more stretchability than the other polymer plastics.\",\n",
    "    \"Plastic sample A has the least amount of stretchability compared to the other polymer plastics.\",\n",
    "    \"Not all polymer plastics have the same stretchability.\",\n",
    "    \"Different polymer plastics have different stretchability (and are therefore suited for different applications).\",\n",
    "    \"A reasonable conclusion cannot be drawn due to procedural errors.\",]\n",
    "essaySet_2_model_answers_part_b = [\"Provide the before and after measurements for length (Did the samples all start out the same size?).\",\n",
    "    \"Make sure the samples are all of the same thickness. Variations in thickness could have caused variations in stretchability.\",\n",
    "    \"Perform additional trials. Some of the samples have similar stretchability (A and C, B and D). Two trials may not be enough to conclusively state that one is more stretchable than the other.\",\n",
    "    \"Indicate how many weights were added to the clamps (Was it the same number for each sample?).\",]\n",
    "essaySet_2_model_answers = combine_lists(essaySet_2_model_answers_part_a, essaySet_2_model_answers_part_b)\n",
    "len(essaySet_2_model_answers)"
   ]
  },
  {
   "cell_type": "code",
   "execution_count": 10,
   "metadata": {},
   "outputs": [
    {
     "name": "stdout",
     "output_type": "stream",
     "text": [
      "22\n"
     ]
    }
   ],
   "source": [
    "# random sample 2 answers from essay set 2\n",
    "essaySet_2_answers = df.query(\"EssaySet == 2 and Score1 == Score2 and Score1 == 3\")[\"EssayText\"]\n",
    "essaySet_2_answers = essaySet_2_answers.sample(2).values.tolist()\n",
    "# essaySet_2_answers = list(itertools.chain.from_iterable(essaySet_2_answers))\n",
    "essaySet_2_model_answers += essaySet_2_answers\n",
    "print(len(essaySet_2_model_answers))\n",
    "# save\n",
    "save_obj(essaySet_2_model_answers, \"essaySet_2_model_answers\")"
   ]
  },
  {
   "cell_type": "markdown",
   "metadata": {},
   "source": [
    "# essay set 3 is a comprihension paragraph"
   ]
  },
  {
   "cell_type": "code",
   "execution_count": 11,
   "metadata": {},
   "outputs": [],
   "source": [
    "def sample_wrt_length(df:pd.DataFrame, nsamples:int, nshort:int, nlong:int, nrand:int)->pd.DataFrame:\n",
    "    \"\"\"\n",
    "    Samples (nrand + nshort + nlong) essays from df based on the length of the essay.\n",
    "\n",
    "    Args:\n",
    "        df: pandas dataframe\n",
    "        nsamples: number of samples to to sample\n",
    "        nshort: number of short essays to sample\n",
    "        nlong: number of long essays to sample\n",
    "        nrand: number of random essays to sample\n",
    "\n",
    "    Returns:\n",
    "        list strings of sampled essays\n",
    "    \"\"\"\n",
    "    # random sample nsamples essays from df\n",
    "    df = df.sample(nsamples)\n",
    "    # pick longest nlong and shortest nshort essays\n",
    "    # then nrand random essays from the remaining nsamples\n",
    "\n",
    "    sorted_samples = sorted(df.values.tolist(), key=len, reverse=True)\n",
    "\n",
    "    try:\n",
    "        random_samples = pd.DataFrame(sorted_samples[nshort+6:-(nlong+7)]).sample(nrand).values.tolist()\n",
    "    except:\n",
    "        random_samples = pd.DataFrame(sorted_samples).sample(nrand).values.tolist()\n",
    "\n",
    "    # flatten\n",
    "    random_samples = list(itertools.chain.from_iterable(random_samples))\n",
    "\n",
    "    df_short = sorted_samples[:nshort]\n",
    "    df_long = sorted_samples[-nlong:]\n",
    "\n",
    "    if not (isinstance( df_long, list)):\n",
    "        df_long = [sorted_samples[:nlong]]\n",
    "\n",
    "    if not (isinstance( df_short, list)):\n",
    "        df_short = [sorted_samples[:nshort]]\n",
    "\n",
    "    if not (isinstance(random_samples , list)):\n",
    "        random_samples = [random_samples]\n",
    "\n",
    "    samples = random_samples+ df_long+ df_short\n",
    "    return samples"
   ]
  },
  {
   "cell_type": "code",
   "execution_count": 12,
   "metadata": {},
   "outputs": [
    {
     "data": {
      "text/plain": [
       "(291,\n",
       " array([\"China's panda is similar to Australia's Koala because in the article it states that the panda only eats bamboo and the koala eats eucalyptus leaves constantly. they both only eat one thing and are different from pythons because they eat multiple things (not plants) and are more vicious.\",\n",
       "        'Pandas and koalas are similar because they both almost exclusively eat just one food, pandas eat bamboo, and koalas eat eucalyptus leaves. Both animals are different from the python because pythons can adapt to different food sources while pandas and koalas can not.'],\n",
       "       dtype=object))"
      ]
     },
     "execution_count": 12,
     "metadata": {},
     "output_type": "execute_result"
    }
   ],
   "source": [
    "# picked at random\n",
    "essaySet_3_answers = df.query(\"EssaySet == 3 and Score1 == Score2 and Score1==2\")[\"EssayText\"]\n",
    "len(essaySet_3_answers), essaySet_3_answers.values[:2]"
   ]
  },
  {
   "cell_type": "code",
   "execution_count": 13,
   "metadata": {},
   "outputs": [],
   "source": [
    "# random sample 100 essays from essay set 3\n",
    "# pick longest 5 and shortest 5 essays\n",
    "# then 9 random essays from the remaining 100\n",
    "\n",
    "essaySet_3_model_answers = sample_wrt_length(essaySet_3_answers, 100, 8, 5, 22-5-8)\n",
    "save_obj(essaySet_3_model_answers, \"essaySet_3_model_answers\")"
   ]
  },
  {
   "cell_type": "code",
   "execution_count": 14,
   "metadata": {},
   "outputs": [
    {
     "data": {
      "text/plain": [
       "(22,\n",
       " ['Pandas in china are similar to koala bears in Australia because they are both specialists. They both have only eats one type of food. Koalas and pandas are both different from pythons have many different places they live in the world. Python are generalists.',\n",
       "  'Pandas in China are similar to koalas in Australia because they  both eat leaves and plants. They are not carnivors like pythons. According to the article it states \" A specialist is China\\'s panda which eats almost nothing but bamboo, or Australia\\'s koala bear which eats eucalyptus leaves most exclusively. The quote already states pandas and koalas do not like meat.'])"
      ]
     },
     "execution_count": 14,
     "metadata": {},
     "output_type": "execute_result"
    }
   ],
   "source": [
    "len(essaySet_3_model_answers), essaySet_3_model_answers[:2]"
   ]
  },
  {
   "cell_type": "markdown",
   "metadata": {},
   "source": [
    "# essay set 3 and 4 are a comprihension paragraph"
   ]
  },
  {
   "cell_type": "code",
   "execution_count": 15,
   "metadata": {},
   "outputs": [
    {
     "data": {
      "text/plain": [
       "(86,\n",
       " array(['The word \"invasive\" means intruding. Invasive species, like the python in the everglades are beginning to threat native species. They are new animals that threat biodiversity. These animals can cause animals to become extinct and are generalist so they can adapt to different environments and affect other people and organism\\'s in and existence.',\n",
       "        'The word, \"invasive\" plays a very important role in the article. Biologists, such as Skip Snow claim that these reptilian species of pythons and lizards are \"invasive\". This conclusion was reached by their adaptability to multiple environments and disrupting the ecosystems. However, some such as RobRay MacInnes, argue otherwise, \"Invasive is the rod of the controversy over these reptiles.'],\n",
       "       dtype=object))"
      ]
     },
     "execution_count": 15,
     "metadata": {},
     "output_type": "execute_result"
    }
   ],
   "source": [
    "essaySet_4_answers = df.query(\"EssaySet == 4 and Score1 == Score2 and Score1 == 2\")[\"EssayText\"]\n",
    "len(essaySet_4_answers), essaySet_4_answers.values[:2]"
   ]
  },
  {
   "cell_type": "code",
   "execution_count": 16,
   "metadata": {},
   "outputs": [],
   "source": [
    "# random sample 100 essays from essay set 4\n",
    "# pick longest 2 and shortest 2 essays\n",
    "# then 2 random essays from the remaining 60\n",
    "essaySet_4_model_answers = sample_wrt_length(essaySet_4_answers, 60, 8, 5, 22-5-8)\n",
    "\n",
    "save_obj(essaySet_4_model_answers, \"essaySet_4_model_answers\")"
   ]
  },
  {
   "cell_type": "code",
   "execution_count": 17,
   "metadata": {},
   "outputs": [
    {
     "data": {
      "text/plain": [
       "['The word invasive means that a species was brought into an area, not by means of being a native species. The article deals with contrasts between snakes being invasive to areas such as the Everglades or if they are introduced. Invasive is a negative connotation because invasive species are usually threats to biodiversity. The article deals whether or not this is true of this case.',\n",
       " 'The word \"invasive\" helps to create a debate in the article. Invasive species are animals that are introduced into an envoriment and thrive in it possible affecting other animals. The scientist feels the term \"invasive species is unfair\", referring to pythons. Biologists, however feel invasive species are major threats to biodiversity. The word \"invasive\" helps to provide debate on this article.']"
      ]
     },
     "execution_count": 17,
     "metadata": {},
     "output_type": "execute_result"
    }
   ],
   "source": [
    "essaySet_4_model_answers[0:2]"
   ]
  },
  {
   "cell_type": "markdown",
   "metadata": {},
   "source": [
    "# essay set 5 \n",
    "\n",
    "need to mention atleast four elements of those to get full mark\n"
   ]
  },
  {
   "cell_type": "code",
   "execution_count": 18,
   "metadata": {},
   "outputs": [],
   "source": [
    "# def permute_answers(answers:list[str], low:int, high:int, n_samples:int)->list[str]:\n",
    "#     def sample()->list[str]:\n",
    "#         n = random.choice(list(range(low,high)))\n",
    "#         return random.sample(answers, n)\n",
    "\n",
    "#     permuted_answers = [sample() for _ in range(n_samples)]\n",
    "#     # join each answer with a space\n",
    "#     return [\" \".join(x) for x in permuted_answers]\n",
    "def sample_answers_with_permutation(answers:list[str], low:int, high:int, n_samples:int, bias:int = 2)->list[str]:\n",
    "\n",
    "    n_answers = list(range(low,high))\n",
    "    # student wont just answer with only the minimum number of valid answers\n",
    "    # add more baises to minimum number of answers\n",
    "    bias = [bias]\n",
    "    # post padding\n",
    "    bias.extend([0]*(len(n_answers)-1))\n",
    "\n",
    "    weights = np.array(list(reversed(n_answers))) + np.array(bias)\n",
    "    weights = weights/ weights.sum()\n",
    "\n",
    "    def sample()->list[str]:\n",
    "        \n",
    "        n = np.random.choice(n_answers, 1,p = weights , replace=False).tolist()[0]\n",
    "        return random.sample(answers, n)\n",
    "\n",
    "    permuted_answers = [sample() for _ in range(n_samples)]\n",
    "    # join each answer with a space\n",
    "    return [\" \".join(x) for x in permuted_answers]"
   ]
  },
  {
   "cell_type": "code",
   "execution_count": 19,
   "metadata": {},
   "outputs": [],
   "source": [
    "discrete_answers = [\"mRNA exits nucleus via nuclear pore.\",\n",
    "    \"mRNA travels through the cytoplasm to the ribosome or enters the rough endoplasmic reticulum.\",\n",
    "    \"mRNA bases are read in triplets called codons (by rRNA).\",\n",
    "    \"tRNA carrying the complementary (U=A, C+G) anticodon recognizes the complementary codon of the mRNA.\",\n",
    "    \"The corresponding amino acids on the other end of the tRNA are bonded to adjacent tRNA's amino acids.\",\n",
    "    \"A new corresponding amino acid is added to the tRNA.\",\n",
    "    \"Amino acids are linked together to make a protein beginning with a START codon in the P site (initiation).\",\n",
    "    \"Amino acids continue to be linked until a STOP codon is read on the mRNA in the A site (elongation and termination).\",]"
   ]
  },
  {
   "cell_type": "code",
   "execution_count": 20,
   "metadata": {},
   "outputs": [
    {
     "data": {
      "text/plain": [
       "6"
      ]
     },
     "execution_count": 20,
     "metadata": {},
     "output_type": "execute_result"
    }
   ],
   "source": [
    "# permutation of the answers for discrete_answers of size 4 each with replacement\n",
    "discrete_answers_perm = sample_answers_with_permutation(discrete_answers, 4, len(discrete_answers)-1, 6)\n",
    "len(discrete_answers_perm)"
   ]
  },
  {
   "cell_type": "code",
   "execution_count": 21,
   "metadata": {},
   "outputs": [
    {
     "data": {
      "text/plain": [
       "'Amino acids are linked together to make a protein beginning with a START codon in the P site (initiation). mRNA travels through the cytoplasm to the ribosome or enters the rough endoplasmic reticulum. A new corresponding amino acid is added to the tRNA. Amino acids continue to be linked until a STOP codon is read on the mRNA in the A site (elongation and termination). tRNA carrying the complementary (U=A, C+G) anticodon recognizes the complementary codon of the mRNA.'"
      ]
     },
     "execution_count": 21,
     "metadata": {},
     "output_type": "execute_result"
    }
   ],
   "source": [
    "discrete_answers_perm[5]"
   ]
  },
  {
   "cell_type": "code",
   "execution_count": 22,
   "metadata": {},
   "outputs": [
    {
     "data": {
      "text/plain": [
       "(32,\n",
       " array(['Four major steps involved in protein synthesis are as follows, mRNA enters a ribosome. Then, tRNA delivers amino acids to the ribosome. The mRNA codon matches with the tRNA anti-codon. Also, the amino acids are joined by a condensation reaction. This process is repeated until a stop code is reached.',\n",
       "        \"When the mRNA leaves the nucleus, it fits through the holes by virtue of being single-stranded. The mRNA floats around until it encounters a ribosome. The ribosome latches on to the mRNA with the larger portion nesting with and reading three nitrogenous bases, called a codon, at a time. The ribosome says in semi-stasis until a tRNA with the proper corresponding nitrogenous bases bumps into it. The tRNA is held by the ribosome until the second codon has been read, and a second tRNA is bonded to by the Ribosome. A peptide (dehydration synthesis) bond forms between the two amino acids, and the initial tRNA is 'cut loose' The ribosome then moves on down the mRNA creating the protein coded for. A strand of mRNA can be translated several times.\"],\n",
       "       dtype=object))"
      ]
     },
     "execution_count": 22,
     "metadata": {},
     "output_type": "execute_result"
    }
   ],
   "source": [
    "essaySet_5_answers = df.query(\"EssaySet == 5 and Score1 == Score2 and Score1 == 3\")[\"EssayText\"]\n",
    "len(essaySet_5_answers), essaySet_5_answers.values[:2]"
   ]
  },
  {
   "cell_type": "code",
   "execution_count": 23,
   "metadata": {},
   "outputs": [
    {
     "name": "stdout",
     "output_type": "stream",
     "text": [
      "22\n"
     ]
    }
   ],
   "source": [
    "# random sample 100 essays from essay set 5\n",
    "essaySet_5_answers_sample = essaySet_5_answers.sample(32)\n",
    "# pick longest and shortest essay\n",
    "# then 2 random essays from the remaining 100\n",
    "\n",
    "essaySet_5_answers_sample_sorted = sorted(essaySet_5_answers_sample.values.tolist(), key=len, reverse=True)\n",
    "essay_rand = pd.DataFrame(essaySet_5_answers_sample_sorted[5:-7]).sample(7).values.tolist()\n",
    "\n",
    "essaySet_5_model_answers = essay_rand+ essaySet_5_answers_sample_sorted[:3] +\\\n",
    "                            essaySet_5_answers_sample_sorted[-6:]\n",
    "essaySet_5_model_answers = essaySet_5_model_answers + discrete_answers_perm\n",
    "print(len(essaySet_5_model_answers))\n",
    "save_obj(essaySet_5_model_answers, \"essaySet_5_model_answers\")"
   ]
  },
  {
   "cell_type": "markdown",
   "metadata": {},
   "source": [
    "# essay set 6\n",
    "\n",
    "need to mention atleast Three elements of those to get full mark\n"
   ]
  },
  {
   "cell_type": "code",
   "execution_count": 24,
   "metadata": {},
   "outputs": [],
   "source": [
    "discrete_answers = [\"Selective permeability is used by the cell membrane to allow certain substances to move across.\",\n",
    "    \"Passive transport occurs when substances move from an area of higher concentration to an area of lower concentration.\",\n",
    "    \"Osmosis is the diffusion of water across the cell membrane.\",\n",
    "    \"Facilitated diffusion occurs when the membrane controls the pathway for a particle to enter or leave a cell.\",\n",
    "    \"Active transport occurs when a cell uses energy to move a substance across the cell membrane, and/or a substance moves from an area of low to high concentration, or against the concentration gradient.\",\n",
    "    \"Pumps are used to move charged particles like sodium and potassium ions through membranes using energy and carrier proteins.\",\n",
    "    \"Membrane-assisted transport occurs when the membrane of the vesicle fuses with the cell membrane forcing large molecules out of the cell as in exocytosis.\",\n",
    "    \"Membrane-assisted transport occurs when molecules are engulfed by the cell membrane as in endocytosis.\",\n",
    "    \"Membrane-assisted transport occurs when vesicles are formed around large molecules as in phagocytosis.\",\n",
    "    \"Membrane-assisted transport occurs when vesicles are formed around liquid droplets as in pinocytosis.\",\n",
    "    \"Protein channels or channel proteins allow for the movement of specific molecules or substances into or out of the cell.\",]"
   ]
  },
  {
   "cell_type": "code",
   "execution_count": 25,
   "metadata": {},
   "outputs": [
    {
     "data": {
      "text/plain": [
       "12"
      ]
     },
     "execution_count": 25,
     "metadata": {},
     "output_type": "execute_result"
    }
   ],
   "source": [
    "discrete_answers_perm = sample_answers_with_permutation(discrete_answers, 3, len(discrete_answers)-2, 12)\n",
    "len(discrete_answers_perm)"
   ]
  },
  {
   "cell_type": "code",
   "execution_count": 26,
   "metadata": {},
   "outputs": [
    {
     "data": {
      "text/plain": [
       "'Passive transport occurs when substances move from an area of higher concentration to an area of lower concentration. Membrane-assisted transport occurs when molecules are engulfed by the cell membrane as in endocytosis. Membrane-assisted transport occurs when the membrane of the vesicle fuses with the cell membrane forcing large molecules out of the cell as in exocytosis.'"
      ]
     },
     "execution_count": 26,
     "metadata": {},
     "output_type": "execute_result"
    }
   ],
   "source": [
    "discrete_answers_perm[5]"
   ]
  },
  {
   "cell_type": "code",
   "execution_count": 27,
   "metadata": {},
   "outputs": [
    {
     "data": {
      "text/plain": [
       "(44,\n",
       " array([\"1.     -Osmosis is how water gets diffused thru the membrane. 2.     -Active Transport is where an enzyme opens the cell membrane for an object to come in, and extra energy is needed to assist the object into the cell.3.     -Passive Transport is where an enzyme opens the cell, but the object doesn't need the extra energy to come in.\",\n",
       "        'One of the ways cells can move substances across the cell membrane is by diffusion. Diffusion moves substances from an area of high concentration, to an area of low concentration. Another way cells move substances across the cell membrane is by osmosis. Osmosis moves water down the cell membrane. The last way cells move substances across the cell membrane is by the sodium-potassium pump. The sodium-potassium pump takes sodium ions out of the membrane and puts potassium ions into the membrane.'],\n",
       "       dtype=object))"
      ]
     },
     "execution_count": 27,
     "metadata": {},
     "output_type": "execute_result"
    }
   ],
   "source": [
    "essaySet_6_answers = df.query(\"EssaySet == 6 and Score1 == Score2 and Score1 == 3\")[\"EssayText\"]\n",
    "len(essaySet_6_answers), essaySet_6_answers.values[:2]"
   ]
  },
  {
   "cell_type": "code",
   "execution_count": 28,
   "metadata": {},
   "outputs": [
    {
     "name": "stdout",
     "output_type": "stream",
     "text": [
      "22\n"
     ]
    }
   ],
   "source": [
    "# random sample 100 essays from essay set 5\n",
    "essaySet_6_answers_sample = essaySet_6_answers.sample(30)\n",
    "# pick longest 2 and shortest 4 essay\n",
    "# then 4 random essays from the remaining 100\n",
    "\n",
    "essaySet_6_answers_sample_sorted = sorted(essaySet_6_answers_sample.values.tolist(), key=len, reverse=True)\n",
    "essay_rand = pd.DataFrame(essaySet_6_answers_sample_sorted[5:-5]).sample(4).values.tolist()\n",
    "essaySet_6_model_answers = essay_rand+ essaySet_6_answers_sample_sorted[:2] +\\\n",
    "                            essaySet_6_answers_sample_sorted[-4:]\n",
    "essaySet_6_model_answers = essaySet_6_model_answers + discrete_answers_perm\n",
    "print(len(essaySet_6_model_answers))\n",
    "save_obj(essaySet_6_model_answers, \"essaySet_6_model_answers\")"
   ]
  },
  {
   "cell_type": "markdown",
   "metadata": {},
   "source": [
    "# essay set 7, 8 and 9 are a comprihension paragraph"
   ]
  },
  {
   "cell_type": "code",
   "execution_count": 29,
   "metadata": {},
   "outputs": [
    {
     "name": "stdout",
     "output_type": "stream",
     "text": [
      "essay set ** 7 ** 400 ** [\"Rose is thoughtful and caring.  She has plenty of topics or activities in her life that she could be complaining about; however she puts others before herself.       For example in the story Aunt Kolab asks Rose if the work she does to help the family 'weighs her down'.  Rose did not want to tell her the truth because she did not want to hurt her aunt.  Therefore, one can see Rose cares about others emotions and can be characterized as thoughtful.\"]\n",
      "essay set ** 8 ** 687 ** [\"Paul finds out that Mr. Leonard was a track star but he could not read. 'No school wanted a runner who couldn't read.' Paul listened to Mr. Leonard about his past and realized that is was similiar to his present. Paul decided that because Mr. Leonard had helped him with track that he needed to help Mr. Leonard out with his reading. 'C'mon, Mr. Leonard, it's time to start your training.'\"]\n",
      "essay set ** 9 ** 517 ** ['The author organizes the article by catching your attention with shocking statements made in the introduction.  After that, the author explains three different problems that space junk creates.  At the end the author summarizes the article with a conclusion.']\n"
     ]
    }
   ],
   "source": [
    "for essay in [\"7\",\"8\",\"9\"]:\n",
    "    answers = df.query(f\"EssaySet == {essay} and Score1 == Score2 and Score1 == 2\")[\"EssayText\"]\n",
    "    print(\"essay set\",essay,len(answers), answers.values[:1],sep=\" ** \")\n",
    "    # random sample 100 essays from essay set\n",
    "    # pick longest 2 and shortest 2 essays\n",
    "    # then 2 random essays from the remaining 100\n",
    "\n",
    "    model_answers = sample_wrt_length(answers, 100, 6, 6, 10)\n",
    "    save_obj(model_answers, f\"essaySet_{essay}_model_answers\")"
   ]
  },
  {
   "cell_type": "markdown",
   "metadata": {},
   "source": [
    "# essay set 10"
   ]
  },
  {
   "cell_type": "code",
   "execution_count": 30,
   "metadata": {},
   "outputs": [],
   "source": [
    "temp = [\"Black :: The doghouse will be warmer. The black lid made the jar warmest.\",\n",
    "    \"Dark gray :: The inside will be a little warmer,but not too hot. The dark gray lid increased 6º C more than the white.\",\n",
    "    \"Light gray\t::\tThe inside will stay cooler, but not too cool.\tThe light gray lid was 8º C cooler than the black.\",\n",
    "    \"White :: The inside will be cooler. The white lid only went up to 42º C.\",]"
   ]
  },
  {
   "cell_type": "code",
   "execution_count": 31,
   "metadata": {},
   "outputs": [
    {
     "data": {
      "text/plain": [
       "(516,\n",
       " array(['black :: black might affect the dog house because then the doghouse can get to hot for the dog. iknow this because in the resul ts black got the hottest.',\n",
       "        'white :: the color white will reflect the suns rays of f of it because in the lab the color white had the lowest tempeture, and black absorbed the heat so it was hotter and if they had the doghouse pai nted black the dog would get to hot and die. so white'],\n",
       "       dtype=object))"
      ]
     },
     "execution_count": 31,
     "metadata": {},
     "output_type": "execute_result"
    }
   ],
   "source": [
    "# choose random sample\n",
    "essaySet_10_answers = df.query(\"EssaySet == 10 and Score1 == Score2 and Score1==2\")[\"EssayText\"]\n",
    "len(essaySet_10_answers), essaySet_10_answers.values[:2]"
   ]
  },
  {
   "cell_type": "code",
   "execution_count": 33,
   "metadata": {},
   "outputs": [],
   "source": [
    "# find all the answers that are starting with \"Black\"\n",
    "rand_black = df.query(\"EssaySet == 10 and Score1 == Score2 and Score1==2 and EssayText.str.startswith('black')\")[\"EssayText\"]\n",
    "# find all the answers that are starting with \"light gray\"\n",
    "rand_light_gray = df.query(\"EssaySet == 10 and Score1 == Score2 and Score1==2 and EssayText.str.startswith('light gray')\")[\"EssayText\"]\n",
    "\n",
    "# find all the answers that are starting with \"dark gray\"\n",
    "rand_dark_gray = df.query(\"EssaySet == 10 and Score1 == Score2 and Score1==2 and EssayText.str.startswith('dark gray')\")[\"EssayText\"]\n",
    "\n",
    "# find all the answers that are starting with \"white\"\n",
    "rand_white = df.query(\"EssaySet == 10 and Score1 == Score2 and Score1==2 and EssayText.str.startswith('white')\")[\"EssayText\"]"
   ]
  },
  {
   "cell_type": "code",
   "execution_count": 34,
   "metadata": {},
   "outputs": [
    {
     "data": {
      "text/plain": [
       "22"
      ]
     },
     "execution_count": 34,
     "metadata": {},
     "output_type": "execute_result"
    }
   ],
   "source": [
    "# sample 5 from each\n",
    "light_gray = rand_light_gray.sample(4).values.tolist()\n",
    "dark_gray = rand_dark_gray.sample(4).values.tolist()\n",
    "white = rand_white.sample(5).values.tolist()\n",
    "black = rand_black.sample(5).values.tolist()\n",
    "\n",
    "essy_10_rand = light_gray + dark_gray + white + black\n",
    "\n",
    "esseySet_10_model_answers = essy_10_rand + temp\n",
    "len(esseySet_10_model_answers)"
   ]
  },
  {
   "cell_type": "code",
   "execution_count": 35,
   "metadata": {},
   "outputs": [],
   "source": [
    "save_obj(esseySet_10_model_answers, \"essaySet_10_model_answers\")"
   ]
  },
  {
   "cell_type": "code",
   "execution_count": 3,
   "metadata": {},
   "outputs": [],
   "source": [
    "# load model answers\n",
    "essaySet_1_model_answers = load_obj(\"essaySet_1_model_answers\")\n",
    "essaySet_2_model_answers = load_obj(\"essaySet_2_model_answers\")\n",
    "essaySet_3_model_answers = load_obj(\"essaySet_3_model_answers\")\n",
    "essaySet_4_model_answers = load_obj(\"essaySet_4_model_answers\")\n",
    "essaySet_5_model_answers = load_obj(\"essaySet_5_model_answers\")\n",
    "essaySet_6_model_answers = load_obj(\"essaySet_6_model_answers\")\n",
    "essaySet_7_model_answers = load_obj(\"essaySet_7_model_answers\")\n",
    "essaySet_8_model_answers = load_obj(\"essaySet_8_model_answers\")\n",
    "essaySet_9_model_answers = load_obj(\"essaySet_9_model_answers\")\n",
    "essaySet_10_model_answers = load_obj(\"essaySet_10_model_answers\")"
   ]
  },
  {
   "cell_type": "code",
   "execution_count": 4,
   "metadata": {},
   "outputs": [
    {
     "data": {
      "text/plain": [
       "(22, 22, 22, 22, 22, 22, 22, 22, 22, 22)"
      ]
     },
     "execution_count": 4,
     "metadata": {},
     "output_type": "execute_result"
    }
   ],
   "source": [
    "# all len of model answers\n",
    "len(essaySet_1_model_answers), len(essaySet_2_model_answers), len(essaySet_3_model_answers), len(essaySet_4_model_answers), len(essaySet_5_model_answers), len(essaySet_6_model_answers), len(essaySet_7_model_answers), len(essaySet_8_model_answers), len(essaySet_9_model_answers), len(essaySet_10_model_answers)"
   ]
  },
  {
   "cell_type": "code",
   "execution_count": 5,
   "metadata": {},
   "outputs": [],
   "source": [
    "# to check if the answers arn't in shape\n",
    "# flatten the list of lists\n",
    "def flatten(ls_ls):\n",
    "    out = []\n",
    "    for ls in ls_ls:\n",
    "        if isinstance(ls, list):\n",
    "            out.append(ls[0])\n",
    "        else:\n",
    "            out.append(ls)\n",
    "    return out"
   ]
  },
  {
   "cell_type": "code",
   "execution_count": 14,
   "metadata": {},
   "outputs": [],
   "source": [
    "ess_dict = {\n",
    "    \"essaySet_1_model_answers\": essaySet_1_model_answers,\n",
    "    \"essaySet_2_model_answers\": essaySet_2_model_answers,\n",
    "    \"essaySet_3_model_answers\": essaySet_3_model_answers,\n",
    "    \"essaySet_4_model_answers\": essaySet_4_model_answers,\n",
    "    \"essaySet_5_model_answers\": essaySet_5_model_answers,\n",
    "    \"essaySet_6_model_answers\": essaySet_6_model_answers,\n",
    "    \"essaySet_7_model_answers\": essaySet_7_model_answers,\n",
    "    \"essaySet_8_model_answers\": essaySet_8_model_answers,\n",
    "    \"essaySet_9_model_answers\": essaySet_9_model_answers,\n",
    "    \"essaySet_10_model_answers\": essaySet_10_model_answers,\n",
    "}"
   ]
  },
  {
   "cell_type": "code",
   "execution_count": 15,
   "metadata": {},
   "outputs": [],
   "source": [
    "for i,v in ess_dict.items():\n",
    "    ess_dict[i] = flatten(v)"
   ]
  },
  {
   "cell_type": "code",
   "execution_count": 16,
   "metadata": {},
   "outputs": [
    {
     "name": "stdout",
     "output_type": "stream",
     "text": [
      "22\n",
      "22\n",
      "22\n",
      "22\n",
      "22\n",
      "22\n",
      "22\n",
      "22\n",
      "22\n",
      "22\n"
     ]
    }
   ],
   "source": [
    "for i,v in ess_dict.items():\n",
    "    print(len(v))"
   ]
  },
  {
   "cell_type": "code",
   "execution_count": 19,
   "metadata": {},
   "outputs": [],
   "source": [
    "for i,v in ess_dict.items():\n",
    "    save_obj(v, i)"
   ]
  }
 ],
 "metadata": {
  "kernelspec": {
   "display_name": "Python 3.9.2 64-bit",
   "language": "python",
   "name": "python3"
  },
  "language_info": {
   "codemirror_mode": {
    "name": "ipython",
    "version": 3
   },
   "file_extension": ".py",
   "mimetype": "text/x-python",
   "name": "python",
   "nbconvert_exporter": "python",
   "pygments_lexer": "ipython3",
   "version": "3.9.2"
  },
  "orig_nbformat": 4,
  "vscode": {
   "interpreter": {
    "hash": "0f876b07db73824ba94c3da26a300833b9286c0dd0d4e31723ae4574ddd9b9bb"
   }
  }
 },
 "nbformat": 4,
 "nbformat_minor": 2
}
